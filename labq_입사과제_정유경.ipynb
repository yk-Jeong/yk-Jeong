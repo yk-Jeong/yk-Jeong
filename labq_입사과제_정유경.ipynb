{
  "nbformat": 4,
  "nbformat_minor": 0,
  "metadata": {
    "colab": {
      "provenance": [],
      "collapsed_sections": [],
      "authorship_tag": "ABX9TyNMm9YmW/i7M+fEg5iBXTmX",
      "include_colab_link": true
    },
    "kernelspec": {
      "name": "python3",
      "display_name": "Python 3"
    },
    "language_info": {
      "name": "python"
    }
  },
  "cells": [
    {
      "cell_type": "markdown",
      "metadata": {
        "id": "view-in-github",
        "colab_type": "text"
      },
      "source": [
        "<a href=\"https://colab.research.google.com/github/yk-Jeong/yk-jeong/blob/main/labq_%EC%9E%85%EC%82%AC%EA%B3%BC%EC%A0%9C_%EC%A0%95%EC%9C%A0%EA%B2%BD.ipynb\" target=\"_parent\"><img src=\"https://colab.research.google.com/assets/colab-badge.svg\" alt=\"Open In Colab\"/></a>"
      ]
    },
    {
      "cell_type": "markdown",
      "source": [
        "**과제 목표**\n",
        "\n",
        "\n",
        "- 테스트셋의 각 경주별로 마번 조합 3개를 예측\n",
        "- 3개 조합 중 하나가 실제 복승 조합과 일치하면 적중\n",
        "- 적중률 = 적중 경기수 / 총 경기수\n",
        "\n",
        "\n",
        "**컬럼 설명** \n",
        "<pre>\n",
        "rcDate 경주일자 rcNo 경주번호 chulNo 마번 hrNo 마 고유번호 age 마 연령 ageCond 연령조건\n",
        "budam 부담구분 chaksunT 통산상금 chaksunY 최근1년상금 chaksun_6m 최근6개월상금 \n",
        "dusu 출전 마 수 ilsu 경마일수 \n",
        "ord1CntT 통산1위횟수 ord1CntY 최근1년1위횟수 ord2CntT  통산2위횟수 ord2CntY 최근1년2위횟수 ord3CntT  통산3위횟수 ord3CntY 최근1년3위횟수 \n",
        "prd 마 산지 prizeCond 상금조건 rank 등급조건 rating 마 레이팅    \n",
        "rcCntT 마 통산출전횟수 rcCntY 마 최근1년출전횟수 \n",
        "rcDist 경주거리 sex 마 성별 wgBudam 부담중량 \n",
        "track 경마장 상태 weather 날씨 waterRate 경마장 함수율\n",
        "ord 등수 rcTime 경주기록(초) \n",
        "jkNo 기수번호 trNo 조교사번호 owNo 마주번호\n",
        "</pre>"
      ],
      "metadata": {
        "id": "C6kIwYiyL1oL"
      }
    },
    {
      "cell_type": "markdown",
      "source": [
        "###1. 데이터 확인"
      ],
      "metadata": {
        "id": "N1vGGmeWMZqQ"
      }
    },
    {
      "cell_type": "markdown",
      "source": [
        "라이브러리 로드 "
      ],
      "metadata": {
        "id": "ofzkBAtzHoRL"
      }
    },
    {
      "cell_type": "code",
      "source": [
        "import pandas as pd\n",
        "import numpy as np"
      ],
      "metadata": {
        "id": "CNa7TrRKG-4d"
      },
      "execution_count": 286,
      "outputs": []
    },
    {
      "cell_type": "markdown",
      "source": [
        "데이터 로드 "
      ],
      "metadata": {
        "id": "QnFC4LEcHpNa"
      }
    },
    {
      "cell_type": "code",
      "execution_count": 287,
      "metadata": {
        "id": "zt-PdPrRmOkG"
      },
      "outputs": [],
      "source": [
        "df_train = pd.read_csv('train.csv')\n",
        "df_test = pd.read_csv('test.csv')\n",
        "df_submission = pd.read_csv('sample_submission.csv')"
      ]
    },
    {
      "cell_type": "markdown",
      "source": [
        "데이터 개형 확인"
      ],
      "metadata": {
        "id": "Ev9K10T9L0eL"
      }
    },
    {
      "cell_type": "code",
      "source": [
        "df_train"
      ],
      "metadata": {
        "id": "pUqpytK2HUd1",
        "colab": {
          "base_uri": "https://localhost:8080/",
          "height": 574
        },
        "outputId": "74dcd6cf-b7dc-4138-9c0c-0e7df3ffc1b6"
      },
      "execution_count": 288,
      "outputs": [
        {
          "output_type": "execute_result",
          "data": {
            "text/plain": [
              "        rcDate  rcNo  chulNo   hrNo  age ageCond budam   chaksunT   chaksunY  \\\n",
              "0     20210108     1       1  43108    3    연령오픈   별정A          0          0   \n",
              "1     20210108     1       2  42271    3    연령오픈   별정A          0          0   \n",
              "2     20210108     1       3  42905    3    연령오픈   별정A          0          0   \n",
              "3     20210108     1       4  42445    3    연령오픈   별정A          0          0   \n",
              "4     20210108     1       5  42583    3    연령오픈   별정A          0          0   \n",
              "...        ...   ...     ...    ...  ...     ...   ...        ...        ...   \n",
              "7059  20211226     7       7  41710    5    연령오픈   핸디캡  475550000  100000000   \n",
              "7060  20211226     7       8  41804    5    연령오픈   핸디캡  297200000   77900000   \n",
              "7061  20211226     7       9  43191    3    연령오픈   핸디캡  232710000  193950000   \n",
              "7062  20211226     7      10  40310    4    연령오픈   핸디캡  249440000  128100000   \n",
              "7063  20211226     7      12  38593    5    연령오픈   핸디캡  271950000   54500000   \n",
              "\n",
              "      chaksun_6m  ...  sex  wgBudam  track  weather  waterRate  ord  rcTime  \\\n",
              "0              0  ...    수     56.5     건조       맑음          3   11    66.1   \n",
              "1              0  ...    거     52.5     건조       맑음          3   12    68.4   \n",
              "2              0  ...    수     56.5     건조       맑음          3    9    65.9   \n",
              "3              0  ...    암     54.5     건조       맑음          3    7    65.2   \n",
              "4              0  ...    거     56.5     건조       맑음          3    6    64.8   \n",
              "...          ...  ...  ...      ...    ...      ...        ...  ...     ...   \n",
              "7059    46800000  ...    수     51.5     건조       흐림          3   10   102.2   \n",
              "7060    71300000  ...    수     51.0     건조       흐림          3    5    99.8   \n",
              "7061   144350000  ...    수     51.0     건조       흐림          3    6   100.0   \n",
              "7062    94600000  ...    거     52.0     건조       흐림          3    4    99.8   \n",
              "7063    46800000  ...    거     51.0     건조       흐림          3   11   103.3   \n",
              "\n",
              "       jkNo   trNo    owNo  \n",
              "0     80438  70128  118030  \n",
              "1     80601  70086  104133  \n",
              "2     80588  70129  112286  \n",
              "3     80532  70135  112274  \n",
              "4     80421  70137  110050  \n",
              "...     ...    ...     ...  \n",
              "7059  80606  70186  106092  \n",
              "7060  80456  70141  104123  \n",
              "7061  80423  70086  201269  \n",
              "7062  80438  70121  112274  \n",
              "7063  80482  70141  104087  \n",
              "\n",
              "[7064 rows x 35 columns]"
            ],
            "text/html": [
              "\n",
              "  <div id=\"df-8fe426f8-c229-41c0-be85-9643715bceb7\">\n",
              "    <div class=\"colab-df-container\">\n",
              "      <div>\n",
              "<style scoped>\n",
              "    .dataframe tbody tr th:only-of-type {\n",
              "        vertical-align: middle;\n",
              "    }\n",
              "\n",
              "    .dataframe tbody tr th {\n",
              "        vertical-align: top;\n",
              "    }\n",
              "\n",
              "    .dataframe thead th {\n",
              "        text-align: right;\n",
              "    }\n",
              "</style>\n",
              "<table border=\"1\" class=\"dataframe\">\n",
              "  <thead>\n",
              "    <tr style=\"text-align: right;\">\n",
              "      <th></th>\n",
              "      <th>rcDate</th>\n",
              "      <th>rcNo</th>\n",
              "      <th>chulNo</th>\n",
              "      <th>hrNo</th>\n",
              "      <th>age</th>\n",
              "      <th>ageCond</th>\n",
              "      <th>budam</th>\n",
              "      <th>chaksunT</th>\n",
              "      <th>chaksunY</th>\n",
              "      <th>chaksun_6m</th>\n",
              "      <th>...</th>\n",
              "      <th>sex</th>\n",
              "      <th>wgBudam</th>\n",
              "      <th>track</th>\n",
              "      <th>weather</th>\n",
              "      <th>waterRate</th>\n",
              "      <th>ord</th>\n",
              "      <th>rcTime</th>\n",
              "      <th>jkNo</th>\n",
              "      <th>trNo</th>\n",
              "      <th>owNo</th>\n",
              "    </tr>\n",
              "  </thead>\n",
              "  <tbody>\n",
              "    <tr>\n",
              "      <th>0</th>\n",
              "      <td>20210108</td>\n",
              "      <td>1</td>\n",
              "      <td>1</td>\n",
              "      <td>43108</td>\n",
              "      <td>3</td>\n",
              "      <td>연령오픈</td>\n",
              "      <td>별정A</td>\n",
              "      <td>0</td>\n",
              "      <td>0</td>\n",
              "      <td>0</td>\n",
              "      <td>...</td>\n",
              "      <td>수</td>\n",
              "      <td>56.5</td>\n",
              "      <td>건조</td>\n",
              "      <td>맑음</td>\n",
              "      <td>3</td>\n",
              "      <td>11</td>\n",
              "      <td>66.1</td>\n",
              "      <td>80438</td>\n",
              "      <td>70128</td>\n",
              "      <td>118030</td>\n",
              "    </tr>\n",
              "    <tr>\n",
              "      <th>1</th>\n",
              "      <td>20210108</td>\n",
              "      <td>1</td>\n",
              "      <td>2</td>\n",
              "      <td>42271</td>\n",
              "      <td>3</td>\n",
              "      <td>연령오픈</td>\n",
              "      <td>별정A</td>\n",
              "      <td>0</td>\n",
              "      <td>0</td>\n",
              "      <td>0</td>\n",
              "      <td>...</td>\n",
              "      <td>거</td>\n",
              "      <td>52.5</td>\n",
              "      <td>건조</td>\n",
              "      <td>맑음</td>\n",
              "      <td>3</td>\n",
              "      <td>12</td>\n",
              "      <td>68.4</td>\n",
              "      <td>80601</td>\n",
              "      <td>70086</td>\n",
              "      <td>104133</td>\n",
              "    </tr>\n",
              "    <tr>\n",
              "      <th>2</th>\n",
              "      <td>20210108</td>\n",
              "      <td>1</td>\n",
              "      <td>3</td>\n",
              "      <td>42905</td>\n",
              "      <td>3</td>\n",
              "      <td>연령오픈</td>\n",
              "      <td>별정A</td>\n",
              "      <td>0</td>\n",
              "      <td>0</td>\n",
              "      <td>0</td>\n",
              "      <td>...</td>\n",
              "      <td>수</td>\n",
              "      <td>56.5</td>\n",
              "      <td>건조</td>\n",
              "      <td>맑음</td>\n",
              "      <td>3</td>\n",
              "      <td>9</td>\n",
              "      <td>65.9</td>\n",
              "      <td>80588</td>\n",
              "      <td>70129</td>\n",
              "      <td>112286</td>\n",
              "    </tr>\n",
              "    <tr>\n",
              "      <th>3</th>\n",
              "      <td>20210108</td>\n",
              "      <td>1</td>\n",
              "      <td>4</td>\n",
              "      <td>42445</td>\n",
              "      <td>3</td>\n",
              "      <td>연령오픈</td>\n",
              "      <td>별정A</td>\n",
              "      <td>0</td>\n",
              "      <td>0</td>\n",
              "      <td>0</td>\n",
              "      <td>...</td>\n",
              "      <td>암</td>\n",
              "      <td>54.5</td>\n",
              "      <td>건조</td>\n",
              "      <td>맑음</td>\n",
              "      <td>3</td>\n",
              "      <td>7</td>\n",
              "      <td>65.2</td>\n",
              "      <td>80532</td>\n",
              "      <td>70135</td>\n",
              "      <td>112274</td>\n",
              "    </tr>\n",
              "    <tr>\n",
              "      <th>4</th>\n",
              "      <td>20210108</td>\n",
              "      <td>1</td>\n",
              "      <td>5</td>\n",
              "      <td>42583</td>\n",
              "      <td>3</td>\n",
              "      <td>연령오픈</td>\n",
              "      <td>별정A</td>\n",
              "      <td>0</td>\n",
              "      <td>0</td>\n",
              "      <td>0</td>\n",
              "      <td>...</td>\n",
              "      <td>거</td>\n",
              "      <td>56.5</td>\n",
              "      <td>건조</td>\n",
              "      <td>맑음</td>\n",
              "      <td>3</td>\n",
              "      <td>6</td>\n",
              "      <td>64.8</td>\n",
              "      <td>80421</td>\n",
              "      <td>70137</td>\n",
              "      <td>110050</td>\n",
              "    </tr>\n",
              "    <tr>\n",
              "      <th>...</th>\n",
              "      <td>...</td>\n",
              "      <td>...</td>\n",
              "      <td>...</td>\n",
              "      <td>...</td>\n",
              "      <td>...</td>\n",
              "      <td>...</td>\n",
              "      <td>...</td>\n",
              "      <td>...</td>\n",
              "      <td>...</td>\n",
              "      <td>...</td>\n",
              "      <td>...</td>\n",
              "      <td>...</td>\n",
              "      <td>...</td>\n",
              "      <td>...</td>\n",
              "      <td>...</td>\n",
              "      <td>...</td>\n",
              "      <td>...</td>\n",
              "      <td>...</td>\n",
              "      <td>...</td>\n",
              "      <td>...</td>\n",
              "      <td>...</td>\n",
              "    </tr>\n",
              "    <tr>\n",
              "      <th>7059</th>\n",
              "      <td>20211226</td>\n",
              "      <td>7</td>\n",
              "      <td>7</td>\n",
              "      <td>41710</td>\n",
              "      <td>5</td>\n",
              "      <td>연령오픈</td>\n",
              "      <td>핸디캡</td>\n",
              "      <td>475550000</td>\n",
              "      <td>100000000</td>\n",
              "      <td>46800000</td>\n",
              "      <td>...</td>\n",
              "      <td>수</td>\n",
              "      <td>51.5</td>\n",
              "      <td>건조</td>\n",
              "      <td>흐림</td>\n",
              "      <td>3</td>\n",
              "      <td>10</td>\n",
              "      <td>102.2</td>\n",
              "      <td>80606</td>\n",
              "      <td>70186</td>\n",
              "      <td>106092</td>\n",
              "    </tr>\n",
              "    <tr>\n",
              "      <th>7060</th>\n",
              "      <td>20211226</td>\n",
              "      <td>7</td>\n",
              "      <td>8</td>\n",
              "      <td>41804</td>\n",
              "      <td>5</td>\n",
              "      <td>연령오픈</td>\n",
              "      <td>핸디캡</td>\n",
              "      <td>297200000</td>\n",
              "      <td>77900000</td>\n",
              "      <td>71300000</td>\n",
              "      <td>...</td>\n",
              "      <td>수</td>\n",
              "      <td>51.0</td>\n",
              "      <td>건조</td>\n",
              "      <td>흐림</td>\n",
              "      <td>3</td>\n",
              "      <td>5</td>\n",
              "      <td>99.8</td>\n",
              "      <td>80456</td>\n",
              "      <td>70141</td>\n",
              "      <td>104123</td>\n",
              "    </tr>\n",
              "    <tr>\n",
              "      <th>7061</th>\n",
              "      <td>20211226</td>\n",
              "      <td>7</td>\n",
              "      <td>9</td>\n",
              "      <td>43191</td>\n",
              "      <td>3</td>\n",
              "      <td>연령오픈</td>\n",
              "      <td>핸디캡</td>\n",
              "      <td>232710000</td>\n",
              "      <td>193950000</td>\n",
              "      <td>144350000</td>\n",
              "      <td>...</td>\n",
              "      <td>수</td>\n",
              "      <td>51.0</td>\n",
              "      <td>건조</td>\n",
              "      <td>흐림</td>\n",
              "      <td>3</td>\n",
              "      <td>6</td>\n",
              "      <td>100.0</td>\n",
              "      <td>80423</td>\n",
              "      <td>70086</td>\n",
              "      <td>201269</td>\n",
              "    </tr>\n",
              "    <tr>\n",
              "      <th>7062</th>\n",
              "      <td>20211226</td>\n",
              "      <td>7</td>\n",
              "      <td>10</td>\n",
              "      <td>40310</td>\n",
              "      <td>4</td>\n",
              "      <td>연령오픈</td>\n",
              "      <td>핸디캡</td>\n",
              "      <td>249440000</td>\n",
              "      <td>128100000</td>\n",
              "      <td>94600000</td>\n",
              "      <td>...</td>\n",
              "      <td>거</td>\n",
              "      <td>52.0</td>\n",
              "      <td>건조</td>\n",
              "      <td>흐림</td>\n",
              "      <td>3</td>\n",
              "      <td>4</td>\n",
              "      <td>99.8</td>\n",
              "      <td>80438</td>\n",
              "      <td>70121</td>\n",
              "      <td>112274</td>\n",
              "    </tr>\n",
              "    <tr>\n",
              "      <th>7063</th>\n",
              "      <td>20211226</td>\n",
              "      <td>7</td>\n",
              "      <td>12</td>\n",
              "      <td>38593</td>\n",
              "      <td>5</td>\n",
              "      <td>연령오픈</td>\n",
              "      <td>핸디캡</td>\n",
              "      <td>271950000</td>\n",
              "      <td>54500000</td>\n",
              "      <td>46800000</td>\n",
              "      <td>...</td>\n",
              "      <td>거</td>\n",
              "      <td>51.0</td>\n",
              "      <td>건조</td>\n",
              "      <td>흐림</td>\n",
              "      <td>3</td>\n",
              "      <td>11</td>\n",
              "      <td>103.3</td>\n",
              "      <td>80482</td>\n",
              "      <td>70141</td>\n",
              "      <td>104087</td>\n",
              "    </tr>\n",
              "  </tbody>\n",
              "</table>\n",
              "<p>7064 rows × 35 columns</p>\n",
              "</div>\n",
              "      <button class=\"colab-df-convert\" onclick=\"convertToInteractive('df-8fe426f8-c229-41c0-be85-9643715bceb7')\"\n",
              "              title=\"Convert this dataframe to an interactive table.\"\n",
              "              style=\"display:none;\">\n",
              "        \n",
              "  <svg xmlns=\"http://www.w3.org/2000/svg\" height=\"24px\"viewBox=\"0 0 24 24\"\n",
              "       width=\"24px\">\n",
              "    <path d=\"M0 0h24v24H0V0z\" fill=\"none\"/>\n",
              "    <path d=\"M18.56 5.44l.94 2.06.94-2.06 2.06-.94-2.06-.94-.94-2.06-.94 2.06-2.06.94zm-11 1L8.5 8.5l.94-2.06 2.06-.94-2.06-.94L8.5 2.5l-.94 2.06-2.06.94zm10 10l.94 2.06.94-2.06 2.06-.94-2.06-.94-.94-2.06-.94 2.06-2.06.94z\"/><path d=\"M17.41 7.96l-1.37-1.37c-.4-.4-.92-.59-1.43-.59-.52 0-1.04.2-1.43.59L10.3 9.45l-7.72 7.72c-.78.78-.78 2.05 0 2.83L4 21.41c.39.39.9.59 1.41.59.51 0 1.02-.2 1.41-.59l7.78-7.78 2.81-2.81c.8-.78.8-2.07 0-2.86zM5.41 20L4 18.59l7.72-7.72 1.47 1.35L5.41 20z\"/>\n",
              "  </svg>\n",
              "      </button>\n",
              "      \n",
              "  <style>\n",
              "    .colab-df-container {\n",
              "      display:flex;\n",
              "      flex-wrap:wrap;\n",
              "      gap: 12px;\n",
              "    }\n",
              "\n",
              "    .colab-df-convert {\n",
              "      background-color: #E8F0FE;\n",
              "      border: none;\n",
              "      border-radius: 50%;\n",
              "      cursor: pointer;\n",
              "      display: none;\n",
              "      fill: #1967D2;\n",
              "      height: 32px;\n",
              "      padding: 0 0 0 0;\n",
              "      width: 32px;\n",
              "    }\n",
              "\n",
              "    .colab-df-convert:hover {\n",
              "      background-color: #E2EBFA;\n",
              "      box-shadow: 0px 1px 2px rgba(60, 64, 67, 0.3), 0px 1px 3px 1px rgba(60, 64, 67, 0.15);\n",
              "      fill: #174EA6;\n",
              "    }\n",
              "\n",
              "    [theme=dark] .colab-df-convert {\n",
              "      background-color: #3B4455;\n",
              "      fill: #D2E3FC;\n",
              "    }\n",
              "\n",
              "    [theme=dark] .colab-df-convert:hover {\n",
              "      background-color: #434B5C;\n",
              "      box-shadow: 0px 1px 3px 1px rgba(0, 0, 0, 0.15);\n",
              "      filter: drop-shadow(0px 1px 2px rgba(0, 0, 0, 0.3));\n",
              "      fill: #FFFFFF;\n",
              "    }\n",
              "  </style>\n",
              "\n",
              "      <script>\n",
              "        const buttonEl =\n",
              "          document.querySelector('#df-8fe426f8-c229-41c0-be85-9643715bceb7 button.colab-df-convert');\n",
              "        buttonEl.style.display =\n",
              "          google.colab.kernel.accessAllowed ? 'block' : 'none';\n",
              "\n",
              "        async function convertToInteractive(key) {\n",
              "          const element = document.querySelector('#df-8fe426f8-c229-41c0-be85-9643715bceb7');\n",
              "          const dataTable =\n",
              "            await google.colab.kernel.invokeFunction('convertToInteractive',\n",
              "                                                     [key], {});\n",
              "          if (!dataTable) return;\n",
              "\n",
              "          const docLinkHtml = 'Like what you see? Visit the ' +\n",
              "            '<a target=\"_blank\" href=https://colab.research.google.com/notebooks/data_table.ipynb>data table notebook</a>'\n",
              "            + ' to learn more about interactive tables.';\n",
              "          element.innerHTML = '';\n",
              "          dataTable['output_type'] = 'display_data';\n",
              "          await google.colab.output.renderOutput(dataTable, element);\n",
              "          const docLink = document.createElement('div');\n",
              "          docLink.innerHTML = docLinkHtml;\n",
              "          element.appendChild(docLink);\n",
              "        }\n",
              "      </script>\n",
              "    </div>\n",
              "  </div>\n",
              "  "
            ]
          },
          "metadata": {},
          "execution_count": 288
        }
      ]
    },
    {
      "cell_type": "code",
      "source": [
        "# ord(등수), rcTime(경주기록(초)) 컬럼이 없는 test file\n",
        "df_test"
      ],
      "metadata": {
        "id": "9ECkG0-6HOG4",
        "colab": {
          "base_uri": "https://localhost:8080/",
          "height": 574
        },
        "outputId": "c7ad007e-c587-4315-b7dd-bc54966e4a24"
      },
      "execution_count": 289,
      "outputs": [
        {
          "output_type": "execute_result",
          "data": {
            "text/plain": [
              "       rcDate  rcNo  chulNo   hrNo  age ageCond budam    chaksunT   chaksunY  \\\n",
              "0    20220107     1       1  44563    3      3세   별정A           0          0   \n",
              "1    20220107     1       2  44911    3      3세   별정A     2400000    2400000   \n",
              "2    20220107     1       3  44180    3      3세   별정A           0          0   \n",
              "3    20220107     1       4  45039    3      3세   별정A    13200000   13200000   \n",
              "4    20220107     1       5  43816    3      3세   별정A           0          0   \n",
              "..        ...   ...     ...    ...  ...     ...   ...         ...        ...   \n",
              "649  20220130     6       9  43191    4    연령오픈   핸디캡   232710000  185150000   \n",
              "650  20220130     6      10  38065    8    연령오픈   핸디캡   462550000   28500000   \n",
              "651  20220130     6      11  38180    8    연령오픈   핸디캡   358200000          0   \n",
              "652  20220130     6      13  36510    9    연령오픈   핸디캡  1470900000   19800000   \n",
              "653  20220130     6      14  41204    5    연령오픈   핸디캡   306080000  102300000   \n",
              "\n",
              "     chaksun_6m  ...  rcCntY  rcDist  sex  wgBudam  track  weather  waterRate  \\\n",
              "0             0  ...       5    1000    암     54.0     건조       맑음          3   \n",
              "1       2400000  ...       2    1000    암     54.0     건조       맑음          3   \n",
              "2             0  ...       0    1000    암     52.0     건조       맑음          3   \n",
              "3      13200000  ...       3    1000    암     54.0     건조       맑음          3   \n",
              "4             0  ...       0    1000    암     54.0     건조       맑음          3   \n",
              "..          ...  ...     ...     ...  ...      ...    ...      ...        ...   \n",
              "649   130350000  ...      12    1400    수     52.0     건조       맑음          2   \n",
              "650           0  ...       6    1400    거     52.0     건조       맑음          2   \n",
              "651           0  ...       2    1400    암     51.0     건조       맑음          2   \n",
              "652    19800000  ...       6    1400    수     55.5     건조       맑음          2   \n",
              "653    19800000  ...       8    1400    수     52.0     건조       맑음          2   \n",
              "\n",
              "      jkNo   trNo    owNo  \n",
              "0    80580  70129  109149  \n",
              "1    80423  70130  103007  \n",
              "2    80600  70180  104145  \n",
              "3    80456  70173  104127  \n",
              "4    80546  70136  117054  \n",
              "..     ...    ...     ...  \n",
              "649  80484  70086  201269  \n",
              "650  80434  70128  113115  \n",
              "651  80482  70141  104131  \n",
              "652  80600  70136  105040  \n",
              "653  80421  70126  106075  \n",
              "\n",
              "[654 rows x 33 columns]"
            ],
            "text/html": [
              "\n",
              "  <div id=\"df-cf11815e-725e-4272-97e8-75404979dc9a\">\n",
              "    <div class=\"colab-df-container\">\n",
              "      <div>\n",
              "<style scoped>\n",
              "    .dataframe tbody tr th:only-of-type {\n",
              "        vertical-align: middle;\n",
              "    }\n",
              "\n",
              "    .dataframe tbody tr th {\n",
              "        vertical-align: top;\n",
              "    }\n",
              "\n",
              "    .dataframe thead th {\n",
              "        text-align: right;\n",
              "    }\n",
              "</style>\n",
              "<table border=\"1\" class=\"dataframe\">\n",
              "  <thead>\n",
              "    <tr style=\"text-align: right;\">\n",
              "      <th></th>\n",
              "      <th>rcDate</th>\n",
              "      <th>rcNo</th>\n",
              "      <th>chulNo</th>\n",
              "      <th>hrNo</th>\n",
              "      <th>age</th>\n",
              "      <th>ageCond</th>\n",
              "      <th>budam</th>\n",
              "      <th>chaksunT</th>\n",
              "      <th>chaksunY</th>\n",
              "      <th>chaksun_6m</th>\n",
              "      <th>...</th>\n",
              "      <th>rcCntY</th>\n",
              "      <th>rcDist</th>\n",
              "      <th>sex</th>\n",
              "      <th>wgBudam</th>\n",
              "      <th>track</th>\n",
              "      <th>weather</th>\n",
              "      <th>waterRate</th>\n",
              "      <th>jkNo</th>\n",
              "      <th>trNo</th>\n",
              "      <th>owNo</th>\n",
              "    </tr>\n",
              "  </thead>\n",
              "  <tbody>\n",
              "    <tr>\n",
              "      <th>0</th>\n",
              "      <td>20220107</td>\n",
              "      <td>1</td>\n",
              "      <td>1</td>\n",
              "      <td>44563</td>\n",
              "      <td>3</td>\n",
              "      <td>3세</td>\n",
              "      <td>별정A</td>\n",
              "      <td>0</td>\n",
              "      <td>0</td>\n",
              "      <td>0</td>\n",
              "      <td>...</td>\n",
              "      <td>5</td>\n",
              "      <td>1000</td>\n",
              "      <td>암</td>\n",
              "      <td>54.0</td>\n",
              "      <td>건조</td>\n",
              "      <td>맑음</td>\n",
              "      <td>3</td>\n",
              "      <td>80580</td>\n",
              "      <td>70129</td>\n",
              "      <td>109149</td>\n",
              "    </tr>\n",
              "    <tr>\n",
              "      <th>1</th>\n",
              "      <td>20220107</td>\n",
              "      <td>1</td>\n",
              "      <td>2</td>\n",
              "      <td>44911</td>\n",
              "      <td>3</td>\n",
              "      <td>3세</td>\n",
              "      <td>별정A</td>\n",
              "      <td>2400000</td>\n",
              "      <td>2400000</td>\n",
              "      <td>2400000</td>\n",
              "      <td>...</td>\n",
              "      <td>2</td>\n",
              "      <td>1000</td>\n",
              "      <td>암</td>\n",
              "      <td>54.0</td>\n",
              "      <td>건조</td>\n",
              "      <td>맑음</td>\n",
              "      <td>3</td>\n",
              "      <td>80423</td>\n",
              "      <td>70130</td>\n",
              "      <td>103007</td>\n",
              "    </tr>\n",
              "    <tr>\n",
              "      <th>2</th>\n",
              "      <td>20220107</td>\n",
              "      <td>1</td>\n",
              "      <td>3</td>\n",
              "      <td>44180</td>\n",
              "      <td>3</td>\n",
              "      <td>3세</td>\n",
              "      <td>별정A</td>\n",
              "      <td>0</td>\n",
              "      <td>0</td>\n",
              "      <td>0</td>\n",
              "      <td>...</td>\n",
              "      <td>0</td>\n",
              "      <td>1000</td>\n",
              "      <td>암</td>\n",
              "      <td>52.0</td>\n",
              "      <td>건조</td>\n",
              "      <td>맑음</td>\n",
              "      <td>3</td>\n",
              "      <td>80600</td>\n",
              "      <td>70180</td>\n",
              "      <td>104145</td>\n",
              "    </tr>\n",
              "    <tr>\n",
              "      <th>3</th>\n",
              "      <td>20220107</td>\n",
              "      <td>1</td>\n",
              "      <td>4</td>\n",
              "      <td>45039</td>\n",
              "      <td>3</td>\n",
              "      <td>3세</td>\n",
              "      <td>별정A</td>\n",
              "      <td>13200000</td>\n",
              "      <td>13200000</td>\n",
              "      <td>13200000</td>\n",
              "      <td>...</td>\n",
              "      <td>3</td>\n",
              "      <td>1000</td>\n",
              "      <td>암</td>\n",
              "      <td>54.0</td>\n",
              "      <td>건조</td>\n",
              "      <td>맑음</td>\n",
              "      <td>3</td>\n",
              "      <td>80456</td>\n",
              "      <td>70173</td>\n",
              "      <td>104127</td>\n",
              "    </tr>\n",
              "    <tr>\n",
              "      <th>4</th>\n",
              "      <td>20220107</td>\n",
              "      <td>1</td>\n",
              "      <td>5</td>\n",
              "      <td>43816</td>\n",
              "      <td>3</td>\n",
              "      <td>3세</td>\n",
              "      <td>별정A</td>\n",
              "      <td>0</td>\n",
              "      <td>0</td>\n",
              "      <td>0</td>\n",
              "      <td>...</td>\n",
              "      <td>0</td>\n",
              "      <td>1000</td>\n",
              "      <td>암</td>\n",
              "      <td>54.0</td>\n",
              "      <td>건조</td>\n",
              "      <td>맑음</td>\n",
              "      <td>3</td>\n",
              "      <td>80546</td>\n",
              "      <td>70136</td>\n",
              "      <td>117054</td>\n",
              "    </tr>\n",
              "    <tr>\n",
              "      <th>...</th>\n",
              "      <td>...</td>\n",
              "      <td>...</td>\n",
              "      <td>...</td>\n",
              "      <td>...</td>\n",
              "      <td>...</td>\n",
              "      <td>...</td>\n",
              "      <td>...</td>\n",
              "      <td>...</td>\n",
              "      <td>...</td>\n",
              "      <td>...</td>\n",
              "      <td>...</td>\n",
              "      <td>...</td>\n",
              "      <td>...</td>\n",
              "      <td>...</td>\n",
              "      <td>...</td>\n",
              "      <td>...</td>\n",
              "      <td>...</td>\n",
              "      <td>...</td>\n",
              "      <td>...</td>\n",
              "      <td>...</td>\n",
              "      <td>...</td>\n",
              "    </tr>\n",
              "    <tr>\n",
              "      <th>649</th>\n",
              "      <td>20220130</td>\n",
              "      <td>6</td>\n",
              "      <td>9</td>\n",
              "      <td>43191</td>\n",
              "      <td>4</td>\n",
              "      <td>연령오픈</td>\n",
              "      <td>핸디캡</td>\n",
              "      <td>232710000</td>\n",
              "      <td>185150000</td>\n",
              "      <td>130350000</td>\n",
              "      <td>...</td>\n",
              "      <td>12</td>\n",
              "      <td>1400</td>\n",
              "      <td>수</td>\n",
              "      <td>52.0</td>\n",
              "      <td>건조</td>\n",
              "      <td>맑음</td>\n",
              "      <td>2</td>\n",
              "      <td>80484</td>\n",
              "      <td>70086</td>\n",
              "      <td>201269</td>\n",
              "    </tr>\n",
              "    <tr>\n",
              "      <th>650</th>\n",
              "      <td>20220130</td>\n",
              "      <td>6</td>\n",
              "      <td>10</td>\n",
              "      <td>38065</td>\n",
              "      <td>8</td>\n",
              "      <td>연령오픈</td>\n",
              "      <td>핸디캡</td>\n",
              "      <td>462550000</td>\n",
              "      <td>28500000</td>\n",
              "      <td>0</td>\n",
              "      <td>...</td>\n",
              "      <td>6</td>\n",
              "      <td>1400</td>\n",
              "      <td>거</td>\n",
              "      <td>52.0</td>\n",
              "      <td>건조</td>\n",
              "      <td>맑음</td>\n",
              "      <td>2</td>\n",
              "      <td>80434</td>\n",
              "      <td>70128</td>\n",
              "      <td>113115</td>\n",
              "    </tr>\n",
              "    <tr>\n",
              "      <th>651</th>\n",
              "      <td>20220130</td>\n",
              "      <td>6</td>\n",
              "      <td>11</td>\n",
              "      <td>38180</td>\n",
              "      <td>8</td>\n",
              "      <td>연령오픈</td>\n",
              "      <td>핸디캡</td>\n",
              "      <td>358200000</td>\n",
              "      <td>0</td>\n",
              "      <td>0</td>\n",
              "      <td>...</td>\n",
              "      <td>2</td>\n",
              "      <td>1400</td>\n",
              "      <td>암</td>\n",
              "      <td>51.0</td>\n",
              "      <td>건조</td>\n",
              "      <td>맑음</td>\n",
              "      <td>2</td>\n",
              "      <td>80482</td>\n",
              "      <td>70141</td>\n",
              "      <td>104131</td>\n",
              "    </tr>\n",
              "    <tr>\n",
              "      <th>652</th>\n",
              "      <td>20220130</td>\n",
              "      <td>6</td>\n",
              "      <td>13</td>\n",
              "      <td>36510</td>\n",
              "      <td>9</td>\n",
              "      <td>연령오픈</td>\n",
              "      <td>핸디캡</td>\n",
              "      <td>1470900000</td>\n",
              "      <td>19800000</td>\n",
              "      <td>19800000</td>\n",
              "      <td>...</td>\n",
              "      <td>6</td>\n",
              "      <td>1400</td>\n",
              "      <td>수</td>\n",
              "      <td>55.5</td>\n",
              "      <td>건조</td>\n",
              "      <td>맑음</td>\n",
              "      <td>2</td>\n",
              "      <td>80600</td>\n",
              "      <td>70136</td>\n",
              "      <td>105040</td>\n",
              "    </tr>\n",
              "    <tr>\n",
              "      <th>653</th>\n",
              "      <td>20220130</td>\n",
              "      <td>6</td>\n",
              "      <td>14</td>\n",
              "      <td>41204</td>\n",
              "      <td>5</td>\n",
              "      <td>연령오픈</td>\n",
              "      <td>핸디캡</td>\n",
              "      <td>306080000</td>\n",
              "      <td>102300000</td>\n",
              "      <td>19800000</td>\n",
              "      <td>...</td>\n",
              "      <td>8</td>\n",
              "      <td>1400</td>\n",
              "      <td>수</td>\n",
              "      <td>52.0</td>\n",
              "      <td>건조</td>\n",
              "      <td>맑음</td>\n",
              "      <td>2</td>\n",
              "      <td>80421</td>\n",
              "      <td>70126</td>\n",
              "      <td>106075</td>\n",
              "    </tr>\n",
              "  </tbody>\n",
              "</table>\n",
              "<p>654 rows × 33 columns</p>\n",
              "</div>\n",
              "      <button class=\"colab-df-convert\" onclick=\"convertToInteractive('df-cf11815e-725e-4272-97e8-75404979dc9a')\"\n",
              "              title=\"Convert this dataframe to an interactive table.\"\n",
              "              style=\"display:none;\">\n",
              "        \n",
              "  <svg xmlns=\"http://www.w3.org/2000/svg\" height=\"24px\"viewBox=\"0 0 24 24\"\n",
              "       width=\"24px\">\n",
              "    <path d=\"M0 0h24v24H0V0z\" fill=\"none\"/>\n",
              "    <path d=\"M18.56 5.44l.94 2.06.94-2.06 2.06-.94-2.06-.94-.94-2.06-.94 2.06-2.06.94zm-11 1L8.5 8.5l.94-2.06 2.06-.94-2.06-.94L8.5 2.5l-.94 2.06-2.06.94zm10 10l.94 2.06.94-2.06 2.06-.94-2.06-.94-.94-2.06-.94 2.06-2.06.94z\"/><path d=\"M17.41 7.96l-1.37-1.37c-.4-.4-.92-.59-1.43-.59-.52 0-1.04.2-1.43.59L10.3 9.45l-7.72 7.72c-.78.78-.78 2.05 0 2.83L4 21.41c.39.39.9.59 1.41.59.51 0 1.02-.2 1.41-.59l7.78-7.78 2.81-2.81c.8-.78.8-2.07 0-2.86zM5.41 20L4 18.59l7.72-7.72 1.47 1.35L5.41 20z\"/>\n",
              "  </svg>\n",
              "      </button>\n",
              "      \n",
              "  <style>\n",
              "    .colab-df-container {\n",
              "      display:flex;\n",
              "      flex-wrap:wrap;\n",
              "      gap: 12px;\n",
              "    }\n",
              "\n",
              "    .colab-df-convert {\n",
              "      background-color: #E8F0FE;\n",
              "      border: none;\n",
              "      border-radius: 50%;\n",
              "      cursor: pointer;\n",
              "      display: none;\n",
              "      fill: #1967D2;\n",
              "      height: 32px;\n",
              "      padding: 0 0 0 0;\n",
              "      width: 32px;\n",
              "    }\n",
              "\n",
              "    .colab-df-convert:hover {\n",
              "      background-color: #E2EBFA;\n",
              "      box-shadow: 0px 1px 2px rgba(60, 64, 67, 0.3), 0px 1px 3px 1px rgba(60, 64, 67, 0.15);\n",
              "      fill: #174EA6;\n",
              "    }\n",
              "\n",
              "    [theme=dark] .colab-df-convert {\n",
              "      background-color: #3B4455;\n",
              "      fill: #D2E3FC;\n",
              "    }\n",
              "\n",
              "    [theme=dark] .colab-df-convert:hover {\n",
              "      background-color: #434B5C;\n",
              "      box-shadow: 0px 1px 3px 1px rgba(0, 0, 0, 0.15);\n",
              "      filter: drop-shadow(0px 1px 2px rgba(0, 0, 0, 0.3));\n",
              "      fill: #FFFFFF;\n",
              "    }\n",
              "  </style>\n",
              "\n",
              "      <script>\n",
              "        const buttonEl =\n",
              "          document.querySelector('#df-cf11815e-725e-4272-97e8-75404979dc9a button.colab-df-convert');\n",
              "        buttonEl.style.display =\n",
              "          google.colab.kernel.accessAllowed ? 'block' : 'none';\n",
              "\n",
              "        async function convertToInteractive(key) {\n",
              "          const element = document.querySelector('#df-cf11815e-725e-4272-97e8-75404979dc9a');\n",
              "          const dataTable =\n",
              "            await google.colab.kernel.invokeFunction('convertToInteractive',\n",
              "                                                     [key], {});\n",
              "          if (!dataTable) return;\n",
              "\n",
              "          const docLinkHtml = 'Like what you see? Visit the ' +\n",
              "            '<a target=\"_blank\" href=https://colab.research.google.com/notebooks/data_table.ipynb>data table notebook</a>'\n",
              "            + ' to learn more about interactive tables.';\n",
              "          element.innerHTML = '';\n",
              "          dataTable['output_type'] = 'display_data';\n",
              "          await google.colab.output.renderOutput(dataTable, element);\n",
              "          const docLink = document.createElement('div');\n",
              "          docLink.innerHTML = docLinkHtml;\n",
              "          element.appendChild(docLink);\n",
              "        }\n",
              "      </script>\n",
              "    </div>\n",
              "  </div>\n",
              "  "
            ]
          },
          "metadata": {},
          "execution_count": 289
        }
      ]
    },
    {
      "cell_type": "code",
      "source": [
        "df_test['rcDate'].unique()"
      ],
      "metadata": {
        "colab": {
          "base_uri": "https://localhost:8080/"
        },
        "id": "lQGzMOt6PC-Z",
        "outputId": "19cf1870-8b1d-4086-c138-8c6343b85dc2"
      },
      "execution_count": 290,
      "outputs": [
        {
          "output_type": "execute_result",
          "data": {
            "text/plain": [
              "array([20220107, 20220109, 20220114, 20220116, 20220121, 20220123,\n",
              "       20220128, 20220130])"
            ]
          },
          "metadata": {},
          "execution_count": 290
        }
      ]
    },
    {
      "cell_type": "code",
      "source": [
        "# 예측 예시는 다음과 같이 경주일자 - 경주번호 - 복승식*3 으로 추출하여야 함\n",
        "df_submission"
      ],
      "metadata": {
        "id": "MoDeqomlHU7Y",
        "colab": {
          "base_uri": "https://localhost:8080/",
          "height": 81
        },
        "outputId": "f1b039f9-03ea-4445-c8d7-f6e4287b3766"
      },
      "execution_count": 291,
      "outputs": [
        {
          "output_type": "execute_result",
          "data": {
            "text/plain": [
              "     rcDate  rcNo pred1 pred2 pred3\n",
              "0  20220130     1   3-5   3-7   5-7"
            ],
            "text/html": [
              "\n",
              "  <div id=\"df-3d24df09-2a54-4f41-b047-d67ecc17d94f\">\n",
              "    <div class=\"colab-df-container\">\n",
              "      <div>\n",
              "<style scoped>\n",
              "    .dataframe tbody tr th:only-of-type {\n",
              "        vertical-align: middle;\n",
              "    }\n",
              "\n",
              "    .dataframe tbody tr th {\n",
              "        vertical-align: top;\n",
              "    }\n",
              "\n",
              "    .dataframe thead th {\n",
              "        text-align: right;\n",
              "    }\n",
              "</style>\n",
              "<table border=\"1\" class=\"dataframe\">\n",
              "  <thead>\n",
              "    <tr style=\"text-align: right;\">\n",
              "      <th></th>\n",
              "      <th>rcDate</th>\n",
              "      <th>rcNo</th>\n",
              "      <th>pred1</th>\n",
              "      <th>pred2</th>\n",
              "      <th>pred3</th>\n",
              "    </tr>\n",
              "  </thead>\n",
              "  <tbody>\n",
              "    <tr>\n",
              "      <th>0</th>\n",
              "      <td>20220130</td>\n",
              "      <td>1</td>\n",
              "      <td>3-5</td>\n",
              "      <td>3-7</td>\n",
              "      <td>5-7</td>\n",
              "    </tr>\n",
              "  </tbody>\n",
              "</table>\n",
              "</div>\n",
              "      <button class=\"colab-df-convert\" onclick=\"convertToInteractive('df-3d24df09-2a54-4f41-b047-d67ecc17d94f')\"\n",
              "              title=\"Convert this dataframe to an interactive table.\"\n",
              "              style=\"display:none;\">\n",
              "        \n",
              "  <svg xmlns=\"http://www.w3.org/2000/svg\" height=\"24px\"viewBox=\"0 0 24 24\"\n",
              "       width=\"24px\">\n",
              "    <path d=\"M0 0h24v24H0V0z\" fill=\"none\"/>\n",
              "    <path d=\"M18.56 5.44l.94 2.06.94-2.06 2.06-.94-2.06-.94-.94-2.06-.94 2.06-2.06.94zm-11 1L8.5 8.5l.94-2.06 2.06-.94-2.06-.94L8.5 2.5l-.94 2.06-2.06.94zm10 10l.94 2.06.94-2.06 2.06-.94-2.06-.94-.94-2.06-.94 2.06-2.06.94z\"/><path d=\"M17.41 7.96l-1.37-1.37c-.4-.4-.92-.59-1.43-.59-.52 0-1.04.2-1.43.59L10.3 9.45l-7.72 7.72c-.78.78-.78 2.05 0 2.83L4 21.41c.39.39.9.59 1.41.59.51 0 1.02-.2 1.41-.59l7.78-7.78 2.81-2.81c.8-.78.8-2.07 0-2.86zM5.41 20L4 18.59l7.72-7.72 1.47 1.35L5.41 20z\"/>\n",
              "  </svg>\n",
              "      </button>\n",
              "      \n",
              "  <style>\n",
              "    .colab-df-container {\n",
              "      display:flex;\n",
              "      flex-wrap:wrap;\n",
              "      gap: 12px;\n",
              "    }\n",
              "\n",
              "    .colab-df-convert {\n",
              "      background-color: #E8F0FE;\n",
              "      border: none;\n",
              "      border-radius: 50%;\n",
              "      cursor: pointer;\n",
              "      display: none;\n",
              "      fill: #1967D2;\n",
              "      height: 32px;\n",
              "      padding: 0 0 0 0;\n",
              "      width: 32px;\n",
              "    }\n",
              "\n",
              "    .colab-df-convert:hover {\n",
              "      background-color: #E2EBFA;\n",
              "      box-shadow: 0px 1px 2px rgba(60, 64, 67, 0.3), 0px 1px 3px 1px rgba(60, 64, 67, 0.15);\n",
              "      fill: #174EA6;\n",
              "    }\n",
              "\n",
              "    [theme=dark] .colab-df-convert {\n",
              "      background-color: #3B4455;\n",
              "      fill: #D2E3FC;\n",
              "    }\n",
              "\n",
              "    [theme=dark] .colab-df-convert:hover {\n",
              "      background-color: #434B5C;\n",
              "      box-shadow: 0px 1px 3px 1px rgba(0, 0, 0, 0.15);\n",
              "      filter: drop-shadow(0px 1px 2px rgba(0, 0, 0, 0.3));\n",
              "      fill: #FFFFFF;\n",
              "    }\n",
              "  </style>\n",
              "\n",
              "      <script>\n",
              "        const buttonEl =\n",
              "          document.querySelector('#df-3d24df09-2a54-4f41-b047-d67ecc17d94f button.colab-df-convert');\n",
              "        buttonEl.style.display =\n",
              "          google.colab.kernel.accessAllowed ? 'block' : 'none';\n",
              "\n",
              "        async function convertToInteractive(key) {\n",
              "          const element = document.querySelector('#df-3d24df09-2a54-4f41-b047-d67ecc17d94f');\n",
              "          const dataTable =\n",
              "            await google.colab.kernel.invokeFunction('convertToInteractive',\n",
              "                                                     [key], {});\n",
              "          if (!dataTable) return;\n",
              "\n",
              "          const docLinkHtml = 'Like what you see? Visit the ' +\n",
              "            '<a target=\"_blank\" href=https://colab.research.google.com/notebooks/data_table.ipynb>data table notebook</a>'\n",
              "            + ' to learn more about interactive tables.';\n",
              "          element.innerHTML = '';\n",
              "          dataTable['output_type'] = 'display_data';\n",
              "          await google.colab.output.renderOutput(dataTable, element);\n",
              "          const docLink = document.createElement('div');\n",
              "          docLink.innerHTML = docLinkHtml;\n",
              "          element.appendChild(docLink);\n",
              "        }\n",
              "      </script>\n",
              "    </div>\n",
              "  </div>\n",
              "  "
            ]
          },
          "metadata": {},
          "execution_count": 291
        }
      ]
    },
    {
      "cell_type": "code",
      "source": [
        "# 결측치 여부 등 기본적인 데이터 정보 확인 \n",
        "df_train.info()"
      ],
      "metadata": {
        "colab": {
          "base_uri": "https://localhost:8080/"
        },
        "id": "D9OWOorcA_Vf",
        "outputId": "b0eb89a4-9030-4a45-b1e6-41a052bf1b16"
      },
      "execution_count": 292,
      "outputs": [
        {
          "output_type": "stream",
          "name": "stdout",
          "text": [
            "<class 'pandas.core.frame.DataFrame'>\n",
            "RangeIndex: 7064 entries, 0 to 7063\n",
            "Data columns (total 35 columns):\n",
            " #   Column      Non-Null Count  Dtype  \n",
            "---  ------      --------------  -----  \n",
            " 0   rcDate      7064 non-null   int64  \n",
            " 1   rcNo        7064 non-null   int64  \n",
            " 2   chulNo      7064 non-null   int64  \n",
            " 3   hrNo        7064 non-null   int64  \n",
            " 4   age         7064 non-null   int64  \n",
            " 5   ageCond     7064 non-null   object \n",
            " 6   budam       7064 non-null   object \n",
            " 7   chaksunT    7064 non-null   int64  \n",
            " 8   chaksunY    7064 non-null   int64  \n",
            " 9   chaksun_6m  7064 non-null   int64  \n",
            " 10  dusu        7064 non-null   int64  \n",
            " 11  ilsu        7064 non-null   int64  \n",
            " 12  ord1CntT    7064 non-null   int64  \n",
            " 13  ord1CntY    7064 non-null   int64  \n",
            " 14  ord2CntT    7064 non-null   int64  \n",
            " 15  ord2CntY    7064 non-null   int64  \n",
            " 16  ord3CntT    7064 non-null   int64  \n",
            " 17  ord3CntY    7064 non-null   int64  \n",
            " 18  prd         7064 non-null   object \n",
            " 19  prizeCond   7064 non-null   object \n",
            " 20  rank        7064 non-null   object \n",
            " 21  rating      7064 non-null   object \n",
            " 22  rcCntT      7064 non-null   int64  \n",
            " 23  rcCntY      7064 non-null   int64  \n",
            " 24  rcDist      7064 non-null   int64  \n",
            " 25  sex         7064 non-null   object \n",
            " 26  wgBudam     7064 non-null   float64\n",
            " 27  track       7064 non-null   object \n",
            " 28  weather     7064 non-null   object \n",
            " 29  waterRate   7064 non-null   int64  \n",
            " 30  ord         7064 non-null   int64  \n",
            " 31  rcTime      7064 non-null   float64\n",
            " 32  jkNo        7064 non-null   int64  \n",
            " 33  trNo        7064 non-null   int64  \n",
            " 34  owNo        7064 non-null   int64  \n",
            "dtypes: float64(2), int64(24), object(9)\n",
            "memory usage: 1.9+ MB\n"
          ]
        }
      ]
    },
    {
      "cell_type": "markdown",
      "source": [
        "###2. 특성공학"
      ],
      "metadata": {
        "id": "StieFKkLdhLr"
      }
    },
    {
      "cell_type": "markdown",
      "source": [
        "1. 컬럼명을 한글로 변경 "
      ],
      "metadata": {
        "id": "1N4-dKlWkmxU"
      }
    },
    {
      "cell_type": "code",
      "source": [
        "# 컬럼명을 보기 편하게 변경\n",
        "df_train.columns = ['경주일자', '경주번호', '마번', '고유번호', '연령', '연령조건', '부담구분', '통산상금', '최근 1년 상금', '최근 6개월 상금', '출전 마 수', '경마일수', '통산 1위 횟수', '최근 1년 1위 횟수', '통산 2위 횟수', '최근 1년 2위 횟수', '통산 3위 횟수', '최근 1년 3위 횟수', '산지', '상금조건', '등급조건', '마 레이팅', '통산출전횟수', '최근 1년 출전 횟수', '경주거리', '마 성별', '부담중량', '경마장 상태', '날씨', '경마장 함수율', '등수', '경주기록(초)', '기수번호', '조교사 번호', '마주번호']\n",
        "df_test.columns = ['경주일자', '경주번호', '마번', '고유번호', '연령', '연령조건', '부담구분', '통산상금', '최근 1년 상금', '최근 6개월 상금', '출전 마 수', '경마일수', '통산 1위 횟수', '최근 1년 1위 횟수', '통산 2위 횟수', '최근 1년 2위 횟수', '통산 3위 횟수', '최근 1년 3위 횟수', '산지', '상금조건', '등급조건', '마 레이팅', '통산출전횟수', '최근 1년 출전 횟수', '경주거리', '마 성별', '부담중량', '경마장 상태', '날씨', '경마장 함수율', '기수번호', '조교사 번호', '마주번호']"
      ],
      "metadata": {
        "id": "h_d2qgqWHzXY"
      },
      "execution_count": 293,
      "outputs": []
    },
    {
      "cell_type": "markdown",
      "source": [
        "2. 레이팅 값이 -인 경우를 결측치로 해석, train과 test 각각의 평균값으로 대체"
      ],
      "metadata": {
        "id": "3a7t9fr5WFQc"
      }
    },
    {
      "cell_type": "code",
      "source": [
        "df_train['마 레이팅'] = df_train['마 레이팅'].replace('-', '75', regex=True)\n",
        "df_test['마 레이팅'] = df_test['마 레이팅'].replace('-', '61', regex=True)"
      ],
      "metadata": {
        "id": "oYSQ8VM9VpV3"
      },
      "execution_count": 294,
      "outputs": []
    },
    {
      "cell_type": "markdown",
      "source": [
        "3. 형변환: numeric이지만 실제로는 고유한 값인 컬럼들의 형을 object로 변경\n",
        "\n",
        "  `경주일자, 경주번호, 마번, 고유번호, 기수번호, 조교사 번호, 마주번호` -> str"
      ],
      "metadata": {
        "id": "34JdSKAmXrdS"
      }
    },
    {
      "cell_type": "code",
      "source": [
        "df_train = df_train.astype({'마 레이팅':'int', '경주일자':'str', '경주번호':'str', '마번':'str', '고유번호':'str', '기수번호':'str', '조교사 번호':'str', '마주번호':'str'})\n",
        "# test set도 같은 처리를 해줌 \n",
        "df_test = df_test.astype({'마 레이팅':'int', '경주일자':'str', '경주번호':'str', '마번':'str', '고유번호':'str', '기수번호':'str', '조교사 번호':'str', '마주번호':'str'})"
      ],
      "metadata": {
        "id": "aHwPcfp5Rro7"
      },
      "execution_count": 295,
      "outputs": []
    },
    {
      "cell_type": "code",
      "source": [
        "# 의도대로 형변환되었는지 확인\n",
        "df_train.info(), df_test.info()"
      ],
      "metadata": {
        "colab": {
          "base_uri": "https://localhost:8080/"
        },
        "id": "Sayz151dpP9E",
        "outputId": "c929632e-40d8-4b48-ec86-39438c880024"
      },
      "execution_count": 296,
      "outputs": [
        {
          "output_type": "stream",
          "name": "stdout",
          "text": [
            "<class 'pandas.core.frame.DataFrame'>\n",
            "RangeIndex: 7064 entries, 0 to 7063\n",
            "Data columns (total 35 columns):\n",
            " #   Column       Non-Null Count  Dtype  \n",
            "---  ------       --------------  -----  \n",
            " 0   경주일자         7064 non-null   object \n",
            " 1   경주번호         7064 non-null   object \n",
            " 2   마번           7064 non-null   object \n",
            " 3   고유번호         7064 non-null   object \n",
            " 4   연령           7064 non-null   int64  \n",
            " 5   연령조건         7064 non-null   object \n",
            " 6   부담구분         7064 non-null   object \n",
            " 7   통산상금         7064 non-null   int64  \n",
            " 8   최근 1년 상금     7064 non-null   int64  \n",
            " 9   최근 6개월 상금    7064 non-null   int64  \n",
            " 10  출전 마 수       7064 non-null   int64  \n",
            " 11  경마일수         7064 non-null   int64  \n",
            " 12  통산 1위 횟수     7064 non-null   int64  \n",
            " 13  최근 1년 1위 횟수  7064 non-null   int64  \n",
            " 14  통산 2위 횟수     7064 non-null   int64  \n",
            " 15  최근 1년 2위 횟수  7064 non-null   int64  \n",
            " 16  통산 3위 횟수     7064 non-null   int64  \n",
            " 17  최근 1년 3위 횟수  7064 non-null   int64  \n",
            " 18  산지           7064 non-null   object \n",
            " 19  상금조건         7064 non-null   object \n",
            " 20  등급조건         7064 non-null   object \n",
            " 21  마 레이팅        7064 non-null   int64  \n",
            " 22  통산출전횟수       7064 non-null   int64  \n",
            " 23  최근 1년 출전 횟수  7064 non-null   int64  \n",
            " 24  경주거리         7064 non-null   int64  \n",
            " 25  마 성별         7064 non-null   object \n",
            " 26  부담중량         7064 non-null   float64\n",
            " 27  경마장 상태       7064 non-null   object \n",
            " 28  날씨           7064 non-null   object \n",
            " 29  경마장 함수율      7064 non-null   int64  \n",
            " 30  등수           7064 non-null   int64  \n",
            " 31  경주기록(초)      7064 non-null   float64\n",
            " 32  기수번호         7064 non-null   object \n",
            " 33  조교사 번호       7064 non-null   object \n",
            " 34  마주번호         7064 non-null   object \n",
            "dtypes: float64(2), int64(18), object(15)\n",
            "memory usage: 1.9+ MB\n",
            "<class 'pandas.core.frame.DataFrame'>\n",
            "RangeIndex: 654 entries, 0 to 653\n",
            "Data columns (total 33 columns):\n",
            " #   Column       Non-Null Count  Dtype  \n",
            "---  ------       --------------  -----  \n",
            " 0   경주일자         654 non-null    object \n",
            " 1   경주번호         654 non-null    object \n",
            " 2   마번           654 non-null    object \n",
            " 3   고유번호         654 non-null    object \n",
            " 4   연령           654 non-null    int64  \n",
            " 5   연령조건         654 non-null    object \n",
            " 6   부담구분         654 non-null    object \n",
            " 7   통산상금         654 non-null    int64  \n",
            " 8   최근 1년 상금     654 non-null    int64  \n",
            " 9   최근 6개월 상금    654 non-null    int64  \n",
            " 10  출전 마 수       654 non-null    int64  \n",
            " 11  경마일수         654 non-null    int64  \n",
            " 12  통산 1위 횟수     654 non-null    int64  \n",
            " 13  최근 1년 1위 횟수  654 non-null    int64  \n",
            " 14  통산 2위 횟수     654 non-null    int64  \n",
            " 15  최근 1년 2위 횟수  654 non-null    int64  \n",
            " 16  통산 3위 횟수     654 non-null    int64  \n",
            " 17  최근 1년 3위 횟수  654 non-null    int64  \n",
            " 18  산지           654 non-null    object \n",
            " 19  상금조건         654 non-null    object \n",
            " 20  등급조건         654 non-null    object \n",
            " 21  마 레이팅        654 non-null    int64  \n",
            " 22  통산출전횟수       654 non-null    int64  \n",
            " 23  최근 1년 출전 횟수  654 non-null    int64  \n",
            " 24  경주거리         654 non-null    int64  \n",
            " 25  마 성별         654 non-null    object \n",
            " 26  부담중량         654 non-null    float64\n",
            " 27  경마장 상태       654 non-null    object \n",
            " 28  날씨           654 non-null    object \n",
            " 29  경마장 함수율      654 non-null    int64  \n",
            " 30  기수번호         654 non-null    object \n",
            " 31  조교사 번호       654 non-null    object \n",
            " 32  마주번호         654 non-null    object \n",
            "dtypes: float64(1), int64(17), object(15)\n",
            "memory usage: 168.7+ KB\n"
          ]
        },
        {
          "output_type": "execute_result",
          "data": {
            "text/plain": [
              "(None, None)"
            ]
          },
          "metadata": {},
          "execution_count": 296
        }
      ]
    },
    {
      "cell_type": "markdown",
      "source": [
        "3. 분류화\n",
        "  - 복승식 예측이므로 1위부터 2위까지의 말을 1, 나머지를 0으로 치환하여 **분류** 문제로 해결하고자 함"
      ],
      "metadata": {
        "id": "S7PODdPmYAxc"
      }
    },
    {
      "cell_type": "code",
      "source": [
        "df_train['승리'] = np.where((df_train['등수'].values <= 2), 1, 0)"
      ],
      "metadata": {
        "id": "Mn8l9oZ0UOSs"
      },
      "execution_count": 297,
      "outputs": []
    },
    {
      "cell_type": "markdown",
      "source": [
        "4. 컬럼 삭제 및 분리\n",
        "- target 컬럼을 포함해 train set의 feature 수가 test set보다 1개 많도록 하여야 함 \n",
        "- 차원수 감소를 위해 상대적으로 관련도가 낮다고 판단되는 feature를 분리\n",
        "- 경주일자 feature를 연, 월, 일로 분리하였으므로 원본 컬럼은 삭제 \n",
        "<pre>\n",
        "상금조건, 등급조건, 통산상금, 최근1년상금, 최근6개월상금, 출전 마 수\n",
        "</pre>\n",
        "\n"
      ],
      "metadata": {
        "id": "L3gG0XfcMRmB"
      }
    },
    {
      "cell_type": "code",
      "source": [
        "train_sep = df_train[['상금조건', '등급조건', '통산상금', '최근 1년 상금', '최근 6개월 상금', '출전 마 수']]\n",
        "test_sep = df_test[['상금조건', '등급조건', '통산상금', '최근 1년 상금', '최근 6개월 상금', '출전 마 수']]"
      ],
      "metadata": {
        "id": "MrsXDshH5P-B"
      },
      "execution_count": 298,
      "outputs": []
    },
    {
      "cell_type": "code",
      "source": [
        "df_train.drop(labels = ['상금조건', '등급조건', '경주기록(초)','등수', '통산상금', '최근 1년 상금', '최근 6개월 상금', '출전 마 수'], axis = 1, inplace = True)\n",
        "df_test.drop(labels = ['상금조건', '등급조건', '통산상금', '최근 1년 상금', '최근 6개월 상금', '출전 마 수'], axis = 1, inplace = True)"
      ],
      "metadata": {
        "id": "utRIlQq3U3Sx"
      },
      "execution_count": 299,
      "outputs": []
    },
    {
      "cell_type": "code",
      "source": [
        "# train set의 feature 수가 test set보다 1개 많은지 확인\n",
        "df_train.shape, df_test.shape"
      ],
      "metadata": {
        "colab": {
          "base_uri": "https://localhost:8080/"
        },
        "id": "UFpIbMn7AlhD",
        "outputId": "1be024a0-8b71-42fc-9655-9bf2e85ae982"
      },
      "execution_count": 300,
      "outputs": [
        {
          "output_type": "execute_result",
          "data": {
            "text/plain": [
              "((7064, 28), (654, 27))"
            ]
          },
          "metadata": {},
          "execution_count": 300
        }
      ]
    },
    {
      "cell_type": "markdown",
      "source": [
        "핸들링이 끝났다면 원본을 남겨두고 복제"
      ],
      "metadata": {
        "id": "h9-rqlYNUwk6"
      }
    },
    {
      "cell_type": "code",
      "source": [
        "df_train.info()"
      ],
      "metadata": {
        "colab": {
          "base_uri": "https://localhost:8080/"
        },
        "id": "lPvTB8h0QMoW",
        "outputId": "17da474b-050a-4f11-d45f-5c6b720fc735"
      },
      "execution_count": 301,
      "outputs": [
        {
          "output_type": "stream",
          "name": "stdout",
          "text": [
            "<class 'pandas.core.frame.DataFrame'>\n",
            "RangeIndex: 7064 entries, 0 to 7063\n",
            "Data columns (total 28 columns):\n",
            " #   Column       Non-Null Count  Dtype  \n",
            "---  ------       --------------  -----  \n",
            " 0   경주일자         7064 non-null   object \n",
            " 1   경주번호         7064 non-null   object \n",
            " 2   마번           7064 non-null   object \n",
            " 3   고유번호         7064 non-null   object \n",
            " 4   연령           7064 non-null   int64  \n",
            " 5   연령조건         7064 non-null   object \n",
            " 6   부담구분         7064 non-null   object \n",
            " 7   경마일수         7064 non-null   int64  \n",
            " 8   통산 1위 횟수     7064 non-null   int64  \n",
            " 9   최근 1년 1위 횟수  7064 non-null   int64  \n",
            " 10  통산 2위 횟수     7064 non-null   int64  \n",
            " 11  최근 1년 2위 횟수  7064 non-null   int64  \n",
            " 12  통산 3위 횟수     7064 non-null   int64  \n",
            " 13  최근 1년 3위 횟수  7064 non-null   int64  \n",
            " 14  산지           7064 non-null   object \n",
            " 15  마 레이팅        7064 non-null   int64  \n",
            " 16  통산출전횟수       7064 non-null   int64  \n",
            " 17  최근 1년 출전 횟수  7064 non-null   int64  \n",
            " 18  경주거리         7064 non-null   int64  \n",
            " 19  마 성별         7064 non-null   object \n",
            " 20  부담중량         7064 non-null   float64\n",
            " 21  경마장 상태       7064 non-null   object \n",
            " 22  날씨           7064 non-null   object \n",
            " 23  경마장 함수율      7064 non-null   int64  \n",
            " 24  기수번호         7064 non-null   object \n",
            " 25  조교사 번호       7064 non-null   object \n",
            " 26  마주번호         7064 non-null   object \n",
            " 27  승리           7064 non-null   int64  \n",
            "dtypes: float64(1), int64(14), object(13)\n",
            "memory usage: 1.5+ MB\n"
          ]
        }
      ]
    },
    {
      "cell_type": "code",
      "source": [
        "train = df_train.copy()\n",
        "test = df_test.copy()"
      ],
      "metadata": {
        "id": "YJUtCE3_Fj-j"
      },
      "execution_count": 302,
      "outputs": []
    },
    {
      "cell_type": "markdown",
      "source": [
        "###3. 모델링"
      ],
      "metadata": {
        "id": "tbIdyeFIn5RG"
      }
    },
    {
      "cell_type": "markdown",
      "source": [
        "0. 타겟 설정 & random seed 고정\n",
        "\n",
        "- `target = '승리'`로 target을 설정\n",
        "- 난수: `42`로 고정"
      ],
      "metadata": {
        "id": "8QcvLK6rK2dO"
      }
    },
    {
      "cell_type": "code",
      "source": [
        "target = '승리'"
      ],
      "metadata": {
        "id": "pvEMguEGDXie"
      },
      "execution_count": 303,
      "outputs": []
    },
    {
      "cell_type": "code",
      "source": [
        "# 난수 고정\n",
        "randnum = 42"
      ],
      "metadata": {
        "id": "fAuSFtXvtmS-"
      },
      "execution_count": 304,
      "outputs": []
    },
    {
      "cell_type": "markdown",
      "source": [
        "1. train set를 train / validation으로 분할\n",
        "- 분할비율은 train:val = 8:2로 임의 지정\n"
      ],
      "metadata": {
        "id": "fgZG49E7XNy2"
      }
    },
    {
      "cell_type": "code",
      "source": [
        "from sklearn.model_selection import train_test_split"
      ],
      "metadata": {
        "id": "aCNxoPlZn8k9"
      },
      "execution_count": 305,
      "outputs": []
    },
    {
      "cell_type": "code",
      "source": [
        "train, val = train_test_split(train, test_size = 0.2, random_state = randnum)\n",
        "\n",
        "# 훈련 / 검증 데이터로 분할한 후 target column 별도 분할\n",
        "X_train = train.drop(columns = target)\n",
        "y_train = train[target]\n",
        "X_val = val.drop(columns = target)\n",
        "y_val = val[target]\n",
        "X_test = test"
      ],
      "metadata": {
        "id": "GwLhTuycCQu-"
      },
      "execution_count": 306,
      "outputs": []
    },
    {
      "cell_type": "code",
      "source": [
        "# 훈련 / 검증 데이터 각각의 개형 확인 \n",
        "\n",
        "X_train.shape, y_train.shape, X_val.shape, y_val.shape, X_test.shape"
      ],
      "metadata": {
        "colab": {
          "base_uri": "https://localhost:8080/"
        },
        "id": "Zprqfwe8NAFc",
        "outputId": "81e3d788-619e-4335-aacd-68a6b2c76bf6"
      },
      "execution_count": 307,
      "outputs": [
        {
          "output_type": "execute_result",
          "data": {
            "text/plain": [
              "((5651, 27), (5651,), (1413, 27), (1413,), (654, 27))"
            ]
          },
          "metadata": {},
          "execution_count": 307
        }
      ]
    },
    {
      "cell_type": "code",
      "source": [
        "# target값의 분포를 확인\n",
        "y_train.value_counts(normalize=True)"
      ],
      "metadata": {
        "colab": {
          "base_uri": "https://localhost:8080/"
        },
        "id": "xTPggbikOX0V",
        "outputId": "2bcda463-8088-412a-f6c5-6bb513af2d98"
      },
      "execution_count": 308,
      "outputs": [
        {
          "output_type": "execute_result",
          "data": {
            "text/plain": [
              "0    0.83118\n",
              "1    0.16882\n",
              "Name: 승리, dtype: float64"
            ]
          },
          "metadata": {},
          "execution_count": 308
        }
      ]
    },
    {
      "cell_type": "markdown",
      "source": [
        "약 83:17으로 비율이 상당히 불균형하나 우선은 별도의 처리 없이 모델에 적합하기로 결정"
      ],
      "metadata": {
        "id": "gKOTI3vUPyLJ"
      }
    },
    {
      "cell_type": "markdown",
      "source": [
        "2. encoding \n",
        "- 순서형 변수가 대부분이며, XGboost를 사용할 것이므로 인코더로 **ordinal encoder**를 채택"
      ],
      "metadata": {
        "id": "76OzwbvyLCuk"
      }
    },
    {
      "cell_type": "code",
      "source": [
        "# encoder 설치 및 로드 \n",
        "!pip install --upgrade category_encoders\n",
        "from category_encoders import OrdinalEncoder\n",
        "encoder = OrdinalEncoder()\n",
        "\n",
        "# 데이터에 인코딩 적용 \n",
        "X_train_encoded = encoder.fit_transform(X_train)\n",
        "X_val_encoded = encoder.transform(X_val) "
      ],
      "metadata": {
        "colab": {
          "base_uri": "https://localhost:8080/"
        },
        "id": "VgDTn82X5KlD",
        "outputId": "cb296df6-6b3f-4f1e-a0e8-6b321ccfc460"
      },
      "execution_count": 309,
      "outputs": [
        {
          "output_type": "stream",
          "name": "stdout",
          "text": [
            "Looking in indexes: https://pypi.org/simple, https://us-python.pkg.dev/colab-wheels/public/simple/\n",
            "Requirement already satisfied: category_encoders in /usr/local/lib/python3.7/dist-packages (2.5.0)\n",
            "Requirement already satisfied: patsy>=0.5.1 in /usr/local/lib/python3.7/dist-packages (from category_encoders) (0.5.2)\n",
            "Requirement already satisfied: scikit-learn>=0.20.0 in /usr/local/lib/python3.7/dist-packages (from category_encoders) (1.0.2)\n",
            "Requirement already satisfied: statsmodels>=0.9.0 in /usr/local/lib/python3.7/dist-packages (from category_encoders) (0.12.2)\n",
            "Requirement already satisfied: numpy>=1.14.0 in /usr/local/lib/python3.7/dist-packages (from category_encoders) (1.21.6)\n",
            "Requirement already satisfied: pandas>=1.0.5 in /usr/local/lib/python3.7/dist-packages (from category_encoders) (1.3.5)\n",
            "Requirement already satisfied: scipy>=1.0.0 in /usr/local/lib/python3.7/dist-packages (from category_encoders) (1.7.3)\n",
            "Requirement already satisfied: pytz>=2017.3 in /usr/local/lib/python3.7/dist-packages (from pandas>=1.0.5->category_encoders) (2022.2.1)\n",
            "Requirement already satisfied: python-dateutil>=2.7.3 in /usr/local/lib/python3.7/dist-packages (from pandas>=1.0.5->category_encoders) (2.8.2)\n",
            "Requirement already satisfied: six in /usr/local/lib/python3.7/dist-packages (from patsy>=0.5.1->category_encoders) (1.15.0)\n",
            "Requirement already satisfied: threadpoolctl>=2.0.0 in /usr/local/lib/python3.7/dist-packages (from scikit-learn>=0.20.0->category_encoders) (3.1.0)\n",
            "Requirement already satisfied: joblib>=0.11 in /usr/local/lib/python3.7/dist-packages (from scikit-learn>=0.20.0->category_encoders) (1.1.0)\n"
          ]
        }
      ]
    },
    {
      "cell_type": "markdown",
      "source": [
        "4. 모델 적합\n",
        "- Gradient Boosting 기법을 사용하고자 **XGboost lib** 채택 \n",
        "- 과적합을 방지하고 하이퍼파라미터를 최적화하고자 **early stopping** 적용"
      ],
      "metadata": {
        "id": "TjbeF67EzWEG"
      }
    },
    {
      "cell_type": "code",
      "source": [
        "!pip3 install xgboost\n",
        "from xgboost import XGBClassifier\n",
        "from sklearn.pipeline import make_pipeline"
      ],
      "metadata": {
        "colab": {
          "base_uri": "https://localhost:8080/"
        },
        "id": "e7i3c2J82FDg",
        "outputId": "01c46260-9060-46f6-ce08-bde617939997"
      },
      "execution_count": 310,
      "outputs": [
        {
          "output_type": "stream",
          "name": "stdout",
          "text": [
            "Looking in indexes: https://pypi.org/simple, https://us-python.pkg.dev/colab-wheels/public/simple/\n",
            "Requirement already satisfied: xgboost in /usr/local/lib/python3.7/dist-packages (0.90)\n",
            "Requirement already satisfied: scipy in /usr/local/lib/python3.7/dist-packages (from xgboost) (1.7.3)\n",
            "Requirement already satisfied: numpy in /usr/local/lib/python3.7/dist-packages (from xgboost) (1.21.6)\n"
          ]
        }
      ]
    },
    {
      "cell_type": "code",
      "source": [
        "model = XGBClassifier(\n",
        "        objective = \"binary:logistic\",\n",
        "        eval_metric = \"error\", \n",
        "        n_estimators = 1000000,\n",
        "        random_state = randnum,\n",
        "        n_jobs = -1,\n",
        "        max_depth = 5,\n",
        "        learning_rate = 0.1)\n",
        "\n",
        "# 기준 dataset 설정\n",
        "watch_list = [(X_train_encoded, y_train), (X_val_encoded, y_val)]\n",
        "\n",
        "# 모델 학습 - early stopping 시점은 round 100까지로 임의 설정\n",
        "model.fit(X_train_encoded, y_train, eval_set = watch_list, early_stopping_rounds = 100)"
      ],
      "metadata": {
        "colab": {
          "base_uri": "https://localhost:8080/"
        },
        "id": "F3u4YLWXtygA",
        "outputId": "118739cc-62a3-464f-d213-17cc18444ce8"
      },
      "execution_count": 311,
      "outputs": [
        {
          "output_type": "stream",
          "name": "stdout",
          "text": [
            "[0]\tvalidation_0-error:0.155725\tvalidation_1-error:0.171267\n",
            "Multiple eval metrics have been passed: 'validation_1-error' will be used for early stopping.\n",
            "\n",
            "Will train until validation_1-error hasn't improved in 100 rounds.\n",
            "[1]\tvalidation_0-error:0.154663\tvalidation_1-error:0.166313\n",
            "[2]\tvalidation_0-error:0.154132\tvalidation_1-error:0.166313\n",
            "[3]\tvalidation_0-error:0.155017\tvalidation_1-error:0.163482\n",
            "[4]\tvalidation_0-error:0.152893\tvalidation_1-error:0.166313\n",
            "[5]\tvalidation_0-error:0.152185\tvalidation_1-error:0.163482\n",
            "[6]\tvalidation_0-error:0.152185\tvalidation_1-error:0.160651\n",
            "[7]\tvalidation_0-error:0.151478\tvalidation_1-error:0.160651\n",
            "[8]\tvalidation_0-error:0.150416\tvalidation_1-error:0.15782\n",
            "[9]\tvalidation_0-error:0.150062\tvalidation_1-error:0.160651\n",
            "[10]\tvalidation_0-error:0.149177\tvalidation_1-error:0.158528\n",
            "[11]\tvalidation_0-error:0.147761\tvalidation_1-error:0.158528\n",
            "[12]\tvalidation_0-error:0.148115\tvalidation_1-error:0.158528\n",
            "[13]\tvalidation_0-error:0.147054\tvalidation_1-error:0.15782\n",
            "[14]\tvalidation_0-error:0.147408\tvalidation_1-error:0.159236\n",
            "[15]\tvalidation_0-error:0.146523\tvalidation_1-error:0.158528\n",
            "[16]\tvalidation_0-error:0.1467\tvalidation_1-error:0.156405\n",
            "[17]\tvalidation_0-error:0.145107\tvalidation_1-error:0.158528\n",
            "[18]\tvalidation_0-error:0.145284\tvalidation_1-error:0.158528\n",
            "[19]\tvalidation_0-error:0.14493\tvalidation_1-error:0.154282\n",
            "[20]\tvalidation_0-error:0.144399\tvalidation_1-error:0.155697\n",
            "[21]\tvalidation_0-error:0.144222\tvalidation_1-error:0.157113\n",
            "[22]\tvalidation_0-error:0.142453\tvalidation_1-error:0.159236\n",
            "[23]\tvalidation_0-error:0.142099\tvalidation_1-error:0.155697\n",
            "[24]\tvalidation_0-error:0.142099\tvalidation_1-error:0.158528\n",
            "[25]\tvalidation_0-error:0.141568\tvalidation_1-error:0.156405\n",
            "[26]\tvalidation_0-error:0.142099\tvalidation_1-error:0.155697\n",
            "[27]\tvalidation_0-error:0.141745\tvalidation_1-error:0.157113\n",
            "[28]\tvalidation_0-error:0.141745\tvalidation_1-error:0.155697\n",
            "[29]\tvalidation_0-error:0.141037\tvalidation_1-error:0.155697\n",
            "[30]\tvalidation_0-error:0.141214\tvalidation_1-error:0.154989\n",
            "[31]\tvalidation_0-error:0.141214\tvalidation_1-error:0.152866\n",
            "[32]\tvalidation_0-error:0.14086\tvalidation_1-error:0.152159\n",
            "[33]\tvalidation_0-error:0.141568\tvalidation_1-error:0.152866\n",
            "[34]\tvalidation_0-error:0.140683\tvalidation_1-error:0.152866\n",
            "[35]\tvalidation_0-error:0.139798\tvalidation_1-error:0.154989\n",
            "[36]\tvalidation_0-error:0.139267\tvalidation_1-error:0.154989\n",
            "[37]\tvalidation_0-error:0.139444\tvalidation_1-error:0.154282\n",
            "[38]\tvalidation_0-error:0.139267\tvalidation_1-error:0.154989\n",
            "[39]\tvalidation_0-error:0.138383\tvalidation_1-error:0.153574\n",
            "[40]\tvalidation_0-error:0.137321\tvalidation_1-error:0.151451\n",
            "[41]\tvalidation_0-error:0.137321\tvalidation_1-error:0.152159\n",
            "[42]\tvalidation_0-error:0.137321\tvalidation_1-error:0.154989\n",
            "[43]\tvalidation_0-error:0.137675\tvalidation_1-error:0.153574\n",
            "[44]\tvalidation_0-error:0.13679\tvalidation_1-error:0.155697\n",
            "[45]\tvalidation_0-error:0.13679\tvalidation_1-error:0.154989\n",
            "[46]\tvalidation_0-error:0.13679\tvalidation_1-error:0.154989\n",
            "[47]\tvalidation_0-error:0.135905\tvalidation_1-error:0.154282\n",
            "[48]\tvalidation_0-error:0.135197\tvalidation_1-error:0.153574\n",
            "[49]\tvalidation_0-error:0.135551\tvalidation_1-error:0.152866\n",
            "[50]\tvalidation_0-error:0.133782\tvalidation_1-error:0.152866\n",
            "[51]\tvalidation_0-error:0.133251\tvalidation_1-error:0.154282\n",
            "[52]\tvalidation_0-error:0.133074\tvalidation_1-error:0.153574\n",
            "[53]\tvalidation_0-error:0.132366\tvalidation_1-error:0.153574\n",
            "[54]\tvalidation_0-error:0.132897\tvalidation_1-error:0.154282\n",
            "[55]\tvalidation_0-error:0.132366\tvalidation_1-error:0.154282\n",
            "[56]\tvalidation_0-error:0.132012\tvalidation_1-error:0.154989\n",
            "[57]\tvalidation_0-error:0.131658\tvalidation_1-error:0.154989\n",
            "[58]\tvalidation_0-error:0.13095\tvalidation_1-error:0.155697\n",
            "[59]\tvalidation_0-error:0.130596\tvalidation_1-error:0.15782\n",
            "[60]\tvalidation_0-error:0.129712\tvalidation_1-error:0.157113\n",
            "[61]\tvalidation_0-error:0.129358\tvalidation_1-error:0.158528\n",
            "[62]\tvalidation_0-error:0.129004\tvalidation_1-error:0.158528\n",
            "[63]\tvalidation_0-error:0.127942\tvalidation_1-error:0.158528\n",
            "[64]\tvalidation_0-error:0.127588\tvalidation_1-error:0.158528\n",
            "[65]\tvalidation_0-error:0.127942\tvalidation_1-error:0.159236\n",
            "[66]\tvalidation_0-error:0.127765\tvalidation_1-error:0.159236\n",
            "[67]\tvalidation_0-error:0.12688\tvalidation_1-error:0.159236\n",
            "[68]\tvalidation_0-error:0.126703\tvalidation_1-error:0.159236\n",
            "[69]\tvalidation_0-error:0.126349\tvalidation_1-error:0.159236\n",
            "[70]\tvalidation_0-error:0.126172\tvalidation_1-error:0.158528\n",
            "[71]\tvalidation_0-error:0.126526\tvalidation_1-error:0.157113\n",
            "[72]\tvalidation_0-error:0.12458\tvalidation_1-error:0.15782\n",
            "[73]\tvalidation_0-error:0.124934\tvalidation_1-error:0.158528\n",
            "[74]\tvalidation_0-error:0.124226\tvalidation_1-error:0.158528\n",
            "[75]\tvalidation_0-error:0.123695\tvalidation_1-error:0.159236\n",
            "[76]\tvalidation_0-error:0.124049\tvalidation_1-error:0.158528\n",
            "[77]\tvalidation_0-error:0.123518\tvalidation_1-error:0.159943\n",
            "[78]\tvalidation_0-error:0.123164\tvalidation_1-error:0.159236\n",
            "[79]\tvalidation_0-error:0.122633\tvalidation_1-error:0.159236\n",
            "[80]\tvalidation_0-error:0.122456\tvalidation_1-error:0.158528\n",
            "[81]\tvalidation_0-error:0.12281\tvalidation_1-error:0.159236\n",
            "[82]\tvalidation_0-error:0.122633\tvalidation_1-error:0.159236\n",
            "[83]\tvalidation_0-error:0.121748\tvalidation_1-error:0.159236\n",
            "[84]\tvalidation_0-error:0.119802\tvalidation_1-error:0.159943\n",
            "[85]\tvalidation_0-error:0.119802\tvalidation_1-error:0.159943\n",
            "[86]\tvalidation_0-error:0.119979\tvalidation_1-error:0.159943\n",
            "[87]\tvalidation_0-error:0.119625\tvalidation_1-error:0.159236\n",
            "[88]\tvalidation_0-error:0.119271\tvalidation_1-error:0.159943\n",
            "[89]\tvalidation_0-error:0.119094\tvalidation_1-error:0.159943\n",
            "[90]\tvalidation_0-error:0.117855\tvalidation_1-error:0.160651\n",
            "[91]\tvalidation_0-error:0.117501\tvalidation_1-error:0.162067\n",
            "[92]\tvalidation_0-error:0.11644\tvalidation_1-error:0.161359\n",
            "[93]\tvalidation_0-error:0.115555\tvalidation_1-error:0.161359\n",
            "[94]\tvalidation_0-error:0.115024\tvalidation_1-error:0.161359\n",
            "[95]\tvalidation_0-error:0.115024\tvalidation_1-error:0.162067\n",
            "[96]\tvalidation_0-error:0.114847\tvalidation_1-error:0.162067\n",
            "[97]\tvalidation_0-error:0.114847\tvalidation_1-error:0.163482\n",
            "[98]\tvalidation_0-error:0.114847\tvalidation_1-error:0.162774\n",
            "[99]\tvalidation_0-error:0.114316\tvalidation_1-error:0.163482\n",
            "[100]\tvalidation_0-error:0.114316\tvalidation_1-error:0.162067\n",
            "[101]\tvalidation_0-error:0.112369\tvalidation_1-error:0.162067\n",
            "[102]\tvalidation_0-error:0.111662\tvalidation_1-error:0.163482\n",
            "[103]\tvalidation_0-error:0.111131\tvalidation_1-error:0.16419\n",
            "[104]\tvalidation_0-error:0.110423\tvalidation_1-error:0.163482\n",
            "[105]\tvalidation_0-error:0.109892\tvalidation_1-error:0.164897\n",
            "[106]\tvalidation_0-error:0.109184\tvalidation_1-error:0.16419\n",
            "[107]\tvalidation_0-error:0.10883\tvalidation_1-error:0.16419\n",
            "[108]\tvalidation_0-error:0.10883\tvalidation_1-error:0.16419\n",
            "[109]\tvalidation_0-error:0.107945\tvalidation_1-error:0.16419\n",
            "[110]\tvalidation_0-error:0.107061\tvalidation_1-error:0.164897\n",
            "[111]\tvalidation_0-error:0.107415\tvalidation_1-error:0.163482\n",
            "[112]\tvalidation_0-error:0.107238\tvalidation_1-error:0.164897\n",
            "[113]\tvalidation_0-error:0.106884\tvalidation_1-error:0.164897\n",
            "[114]\tvalidation_0-error:0.106176\tvalidation_1-error:0.166313\n",
            "[115]\tvalidation_0-error:0.105468\tvalidation_1-error:0.166313\n",
            "[116]\tvalidation_0-error:0.105468\tvalidation_1-error:0.166313\n",
            "[117]\tvalidation_0-error:0.104937\tvalidation_1-error:0.167021\n",
            "[118]\tvalidation_0-error:0.104406\tvalidation_1-error:0.165605\n",
            "[119]\tvalidation_0-error:0.104052\tvalidation_1-error:0.166313\n",
            "[120]\tvalidation_0-error:0.104052\tvalidation_1-error:0.166313\n",
            "[121]\tvalidation_0-error:0.104052\tvalidation_1-error:0.166313\n",
            "[122]\tvalidation_0-error:0.103875\tvalidation_1-error:0.166313\n",
            "[123]\tvalidation_0-error:0.103698\tvalidation_1-error:0.167021\n",
            "[124]\tvalidation_0-error:0.102991\tvalidation_1-error:0.166313\n",
            "[125]\tvalidation_0-error:0.10246\tvalidation_1-error:0.165605\n",
            "[126]\tvalidation_0-error:0.101044\tvalidation_1-error:0.166313\n",
            "[127]\tvalidation_0-error:0.100867\tvalidation_1-error:0.166313\n",
            "[128]\tvalidation_0-error:0.10069\tvalidation_1-error:0.166313\n",
            "[129]\tvalidation_0-error:0.100513\tvalidation_1-error:0.166313\n",
            "[130]\tvalidation_0-error:0.099274\tvalidation_1-error:0.164897\n",
            "[131]\tvalidation_0-error:0.098921\tvalidation_1-error:0.164897\n",
            "[132]\tvalidation_0-error:0.098744\tvalidation_1-error:0.165605\n",
            "[133]\tvalidation_0-error:0.099274\tvalidation_1-error:0.16419\n",
            "[134]\tvalidation_0-error:0.099274\tvalidation_1-error:0.164897\n",
            "[135]\tvalidation_0-error:0.098921\tvalidation_1-error:0.164897\n",
            "[136]\tvalidation_0-error:0.09839\tvalidation_1-error:0.165605\n",
            "[137]\tvalidation_0-error:0.098744\tvalidation_1-error:0.164897\n",
            "[138]\tvalidation_0-error:0.097859\tvalidation_1-error:0.164897\n",
            "[139]\tvalidation_0-error:0.096797\tvalidation_1-error:0.16419\n",
            "[140]\tvalidation_0-error:0.09662\tvalidation_1-error:0.165605\n",
            "Stopping. Best iteration:\n",
            "[40]\tvalidation_0-error:0.137321\tvalidation_1-error:0.151451\n",
            "\n"
          ]
        },
        {
          "output_type": "execute_result",
          "data": {
            "text/plain": [
              "XGBClassifier(eval_metric='error', max_depth=5, n_estimators=1000000, n_jobs=-1,\n",
              "              random_state=42)"
            ]
          },
          "metadata": {},
          "execution_count": 311
        }
      ]
    },
    {
      "cell_type": "markdown",
      "source": [
        "#### 4. 모델 검증\n",
        "- 분류모델이므로 평가지표를 **accuracy**로 설정해 검증"
      ],
      "metadata": {
        "id": "NW0wKEj3Ypo2"
      }
    },
    {
      "cell_type": "code",
      "source": [
        "from sklearn.metrics import classification_report\n",
        "\n",
        "print(\n",
        "    classification_report(\n",
        "        y_val, model.predict(X_val_encoded)\n",
        "    )\n",
        ")\n",
        "print(\"validation accuracy\", model.score(X_val_encoded, y_val))"
      ],
      "metadata": {
        "colab": {
          "base_uri": "https://localhost:8080/"
        },
        "id": "iF6A-jFy426c",
        "outputId": "13810a9e-1caa-41eb-dd7d-102c445a19ab"
      },
      "execution_count": 312,
      "outputs": [
        {
          "output_type": "stream",
          "name": "stdout",
          "text": [
            "              precision    recall  f1-score   support\n",
            "\n",
            "           0       0.86      0.99      0.92      1191\n",
            "           1       0.60      0.11      0.19       222\n",
            "\n",
            "    accuracy                           0.85      1413\n",
            "   macro avg       0.73      0.55      0.55      1413\n",
            "weighted avg       0.82      0.85      0.80      1413\n",
            "\n",
            "validation accuracy 0.8485491861288039\n"
          ]
        }
      ]
    },
    {
      "cell_type": "markdown",
      "source": [
        "### 5. 결과 확인"
      ],
      "metadata": {
        "id": "h4VD5FbnLE4J"
      }
    },
    {
      "cell_type": "markdown",
      "source": [
        "모델을 test dataset에 적용"
      ],
      "metadata": {
        "id": "UfSVgqKYMToc"
      }
    },
    {
      "cell_type": "code",
      "source": [
        "X_test_encoded = encoder.transform(X_test) \n",
        "output = model.predict(X_test_encoded)"
      ],
      "metadata": {
        "id": "SHvS_-aJCkJN"
      },
      "execution_count": 313,
      "outputs": []
    },
    {
      "cell_type": "markdown",
      "source": [
        "결과값을 원본 test 데이터와 병합 후 승리(1)로 예측된 마번을 추출"
      ],
      "metadata": {
        "id": "tjlzDVnNM1eY"
      }
    },
    {
      "cell_type": "code",
      "source": [
        "output = pd.DataFrame(output)\n",
        "output_submission = pd.concat([X_test, output], axis=1)\n",
        "output_submission = output_submission.loc[(output_submission[0] == 1)]"
      ],
      "metadata": {
        "id": "9JulZJlpEFjW"
      },
      "execution_count": 314,
      "outputs": []
    },
    {
      "cell_type": "code",
      "source": [
        "# 필요한 컬럼만 출력해 데이터 형태 확인\n",
        "\n",
        "df_submission = output_submission[['경주일자', '경주번호', '마번']]\n",
        "df_submission"
      ],
      "metadata": {
        "colab": {
          "base_uri": "https://localhost:8080/",
          "height": 833
        },
        "id": "6lLmQvFsTTe9",
        "outputId": "a8defab3-11c4-481e-d57a-92785e91ed8b"
      },
      "execution_count": 315,
      "outputs": [
        {
          "output_type": "execute_result",
          "data": {
            "text/plain": [
              "         경주일자 경주번호  마번\n",
              "12   20220107    2   6\n",
              "76   20220107    7  10\n",
              "80   20220107    8   2\n",
              "162  20220114    1   2\n",
              "202  20220114    4   9\n",
              "224  20220114    6   8\n",
              "231  20220114    7   7\n",
              "235  20220114    8   3\n",
              "242  20220114    8  10\n",
              "270  20220116    3   2\n",
              "271  20220116    3   3\n",
              "279  20220116    4   1\n",
              "285  20220116    4   7\n",
              "297  20220116    6   1\n",
              "307  20220116    6  11\n",
              "388  20220121    7   6\n",
              "475  20220123    6   4\n",
              "480  20220123    6   9\n",
              "502  20220128    2   8\n",
              "547  20220128    6   8\n",
              "569  20220128    8   4\n",
              "571  20220128    8   6\n",
              "572  20220128    8   7\n",
              "599  20220130    2  10\n",
              "620  20220130    4   4"
            ],
            "text/html": [
              "\n",
              "  <div id=\"df-5d93d258-2517-4597-852f-3a5b784e58cc\">\n",
              "    <div class=\"colab-df-container\">\n",
              "      <div>\n",
              "<style scoped>\n",
              "    .dataframe tbody tr th:only-of-type {\n",
              "        vertical-align: middle;\n",
              "    }\n",
              "\n",
              "    .dataframe tbody tr th {\n",
              "        vertical-align: top;\n",
              "    }\n",
              "\n",
              "    .dataframe thead th {\n",
              "        text-align: right;\n",
              "    }\n",
              "</style>\n",
              "<table border=\"1\" class=\"dataframe\">\n",
              "  <thead>\n",
              "    <tr style=\"text-align: right;\">\n",
              "      <th></th>\n",
              "      <th>경주일자</th>\n",
              "      <th>경주번호</th>\n",
              "      <th>마번</th>\n",
              "    </tr>\n",
              "  </thead>\n",
              "  <tbody>\n",
              "    <tr>\n",
              "      <th>12</th>\n",
              "      <td>20220107</td>\n",
              "      <td>2</td>\n",
              "      <td>6</td>\n",
              "    </tr>\n",
              "    <tr>\n",
              "      <th>76</th>\n",
              "      <td>20220107</td>\n",
              "      <td>7</td>\n",
              "      <td>10</td>\n",
              "    </tr>\n",
              "    <tr>\n",
              "      <th>80</th>\n",
              "      <td>20220107</td>\n",
              "      <td>8</td>\n",
              "      <td>2</td>\n",
              "    </tr>\n",
              "    <tr>\n",
              "      <th>162</th>\n",
              "      <td>20220114</td>\n",
              "      <td>1</td>\n",
              "      <td>2</td>\n",
              "    </tr>\n",
              "    <tr>\n",
              "      <th>202</th>\n",
              "      <td>20220114</td>\n",
              "      <td>4</td>\n",
              "      <td>9</td>\n",
              "    </tr>\n",
              "    <tr>\n",
              "      <th>224</th>\n",
              "      <td>20220114</td>\n",
              "      <td>6</td>\n",
              "      <td>8</td>\n",
              "    </tr>\n",
              "    <tr>\n",
              "      <th>231</th>\n",
              "      <td>20220114</td>\n",
              "      <td>7</td>\n",
              "      <td>7</td>\n",
              "    </tr>\n",
              "    <tr>\n",
              "      <th>235</th>\n",
              "      <td>20220114</td>\n",
              "      <td>8</td>\n",
              "      <td>3</td>\n",
              "    </tr>\n",
              "    <tr>\n",
              "      <th>242</th>\n",
              "      <td>20220114</td>\n",
              "      <td>8</td>\n",
              "      <td>10</td>\n",
              "    </tr>\n",
              "    <tr>\n",
              "      <th>270</th>\n",
              "      <td>20220116</td>\n",
              "      <td>3</td>\n",
              "      <td>2</td>\n",
              "    </tr>\n",
              "    <tr>\n",
              "      <th>271</th>\n",
              "      <td>20220116</td>\n",
              "      <td>3</td>\n",
              "      <td>3</td>\n",
              "    </tr>\n",
              "    <tr>\n",
              "      <th>279</th>\n",
              "      <td>20220116</td>\n",
              "      <td>4</td>\n",
              "      <td>1</td>\n",
              "    </tr>\n",
              "    <tr>\n",
              "      <th>285</th>\n",
              "      <td>20220116</td>\n",
              "      <td>4</td>\n",
              "      <td>7</td>\n",
              "    </tr>\n",
              "    <tr>\n",
              "      <th>297</th>\n",
              "      <td>20220116</td>\n",
              "      <td>6</td>\n",
              "      <td>1</td>\n",
              "    </tr>\n",
              "    <tr>\n",
              "      <th>307</th>\n",
              "      <td>20220116</td>\n",
              "      <td>6</td>\n",
              "      <td>11</td>\n",
              "    </tr>\n",
              "    <tr>\n",
              "      <th>388</th>\n",
              "      <td>20220121</td>\n",
              "      <td>7</td>\n",
              "      <td>6</td>\n",
              "    </tr>\n",
              "    <tr>\n",
              "      <th>475</th>\n",
              "      <td>20220123</td>\n",
              "      <td>6</td>\n",
              "      <td>4</td>\n",
              "    </tr>\n",
              "    <tr>\n",
              "      <th>480</th>\n",
              "      <td>20220123</td>\n",
              "      <td>6</td>\n",
              "      <td>9</td>\n",
              "    </tr>\n",
              "    <tr>\n",
              "      <th>502</th>\n",
              "      <td>20220128</td>\n",
              "      <td>2</td>\n",
              "      <td>8</td>\n",
              "    </tr>\n",
              "    <tr>\n",
              "      <th>547</th>\n",
              "      <td>20220128</td>\n",
              "      <td>6</td>\n",
              "      <td>8</td>\n",
              "    </tr>\n",
              "    <tr>\n",
              "      <th>569</th>\n",
              "      <td>20220128</td>\n",
              "      <td>8</td>\n",
              "      <td>4</td>\n",
              "    </tr>\n",
              "    <tr>\n",
              "      <th>571</th>\n",
              "      <td>20220128</td>\n",
              "      <td>8</td>\n",
              "      <td>6</td>\n",
              "    </tr>\n",
              "    <tr>\n",
              "      <th>572</th>\n",
              "      <td>20220128</td>\n",
              "      <td>8</td>\n",
              "      <td>7</td>\n",
              "    </tr>\n",
              "    <tr>\n",
              "      <th>599</th>\n",
              "      <td>20220130</td>\n",
              "      <td>2</td>\n",
              "      <td>10</td>\n",
              "    </tr>\n",
              "    <tr>\n",
              "      <th>620</th>\n",
              "      <td>20220130</td>\n",
              "      <td>4</td>\n",
              "      <td>4</td>\n",
              "    </tr>\n",
              "  </tbody>\n",
              "</table>\n",
              "</div>\n",
              "      <button class=\"colab-df-convert\" onclick=\"convertToInteractive('df-5d93d258-2517-4597-852f-3a5b784e58cc')\"\n",
              "              title=\"Convert this dataframe to an interactive table.\"\n",
              "              style=\"display:none;\">\n",
              "        \n",
              "  <svg xmlns=\"http://www.w3.org/2000/svg\" height=\"24px\"viewBox=\"0 0 24 24\"\n",
              "       width=\"24px\">\n",
              "    <path d=\"M0 0h24v24H0V0z\" fill=\"none\"/>\n",
              "    <path d=\"M18.56 5.44l.94 2.06.94-2.06 2.06-.94-2.06-.94-.94-2.06-.94 2.06-2.06.94zm-11 1L8.5 8.5l.94-2.06 2.06-.94-2.06-.94L8.5 2.5l-.94 2.06-2.06.94zm10 10l.94 2.06.94-2.06 2.06-.94-2.06-.94-.94-2.06-.94 2.06-2.06.94z\"/><path d=\"M17.41 7.96l-1.37-1.37c-.4-.4-.92-.59-1.43-.59-.52 0-1.04.2-1.43.59L10.3 9.45l-7.72 7.72c-.78.78-.78 2.05 0 2.83L4 21.41c.39.39.9.59 1.41.59.51 0 1.02-.2 1.41-.59l7.78-7.78 2.81-2.81c.8-.78.8-2.07 0-2.86zM5.41 20L4 18.59l7.72-7.72 1.47 1.35L5.41 20z\"/>\n",
              "  </svg>\n",
              "      </button>\n",
              "      \n",
              "  <style>\n",
              "    .colab-df-container {\n",
              "      display:flex;\n",
              "      flex-wrap:wrap;\n",
              "      gap: 12px;\n",
              "    }\n",
              "\n",
              "    .colab-df-convert {\n",
              "      background-color: #E8F0FE;\n",
              "      border: none;\n",
              "      border-radius: 50%;\n",
              "      cursor: pointer;\n",
              "      display: none;\n",
              "      fill: #1967D2;\n",
              "      height: 32px;\n",
              "      padding: 0 0 0 0;\n",
              "      width: 32px;\n",
              "    }\n",
              "\n",
              "    .colab-df-convert:hover {\n",
              "      background-color: #E2EBFA;\n",
              "      box-shadow: 0px 1px 2px rgba(60, 64, 67, 0.3), 0px 1px 3px 1px rgba(60, 64, 67, 0.15);\n",
              "      fill: #174EA6;\n",
              "    }\n",
              "\n",
              "    [theme=dark] .colab-df-convert {\n",
              "      background-color: #3B4455;\n",
              "      fill: #D2E3FC;\n",
              "    }\n",
              "\n",
              "    [theme=dark] .colab-df-convert:hover {\n",
              "      background-color: #434B5C;\n",
              "      box-shadow: 0px 1px 3px 1px rgba(0, 0, 0, 0.15);\n",
              "      filter: drop-shadow(0px 1px 2px rgba(0, 0, 0, 0.3));\n",
              "      fill: #FFFFFF;\n",
              "    }\n",
              "  </style>\n",
              "\n",
              "      <script>\n",
              "        const buttonEl =\n",
              "          document.querySelector('#df-5d93d258-2517-4597-852f-3a5b784e58cc button.colab-df-convert');\n",
              "        buttonEl.style.display =\n",
              "          google.colab.kernel.accessAllowed ? 'block' : 'none';\n",
              "\n",
              "        async function convertToInteractive(key) {\n",
              "          const element = document.querySelector('#df-5d93d258-2517-4597-852f-3a5b784e58cc');\n",
              "          const dataTable =\n",
              "            await google.colab.kernel.invokeFunction('convertToInteractive',\n",
              "                                                     [key], {});\n",
              "          if (!dataTable) return;\n",
              "\n",
              "          const docLinkHtml = 'Like what you see? Visit the ' +\n",
              "            '<a target=\"_blank\" href=https://colab.research.google.com/notebooks/data_table.ipynb>data table notebook</a>'\n",
              "            + ' to learn more about interactive tables.';\n",
              "          element.innerHTML = '';\n",
              "          dataTable['output_type'] = 'display_data';\n",
              "          await google.colab.output.renderOutput(dataTable, element);\n",
              "          const docLink = document.createElement('div');\n",
              "          docLink.innerHTML = docLinkHtml;\n",
              "          element.appendChild(docLink);\n",
              "        }\n",
              "      </script>\n",
              "    </div>\n",
              "  </div>\n",
              "  "
            ]
          },
          "metadata": {},
          "execution_count": 315
        }
      ]
    },
    {
      "cell_type": "markdown",
      "source": [
        "결과를 .csv 파일로 추출"
      ],
      "metadata": {
        "id": "tfQEUKseNMb3"
      }
    },
    {
      "cell_type": "code",
      "source": [
        "df_submission.to_csv('df_submission.csv', mode = 'w')"
      ],
      "metadata": {
        "id": "ujLjXybLNMvw"
      },
      "execution_count": 316,
      "outputs": []
    },
    {
      "cell_type": "markdown",
      "source": [
        "### 해결하지 못한 문제"
      ],
      "metadata": {
        "id": "ysHtOgt6Ckm8"
      }
    },
    {
      "cell_type": "markdown",
      "source": [
        "- 특성공학 과정에서의 컬럼 추가 시도 실패(`속도`, `백분율`)\n",
        "  - 경기에 따라 말이 달려야 하는 거리가 다르므로, 경주거리를 고려하지 않고 경주기록을 단순 비교할 수는 없음 \n",
        "  - 마찬가지로 각 경주에 참여한 전체 말의 수를 고려하여 등수를 상대화한 뒤 비교하여야 함 \n",
        "  - 그러나 test set에 `등수`와 `경주기록(초)` 컬럼이 존재하지 않아 train set에도 적용할 수 없었음 "
      ],
      "metadata": {
        "id": "gPoUO_GZU4IA"
      }
    },
    {
      "cell_type": "code",
      "source": [
        "# velocity \n",
        "# df_train['속도'] = df_train['경주거리'] / df_train['경주기록(초)'] \n",
        "# percentile\n",
        "# df_train['백분율'] = (df_train['등수'] / df_train['출전 마 수']) * 100 "
      ],
      "metadata": {
        "id": "qwBD5JtcgBqb"
      },
      "execution_count": 317,
      "outputs": []
    },
    {
      "cell_type": "markdown",
      "source": [
        "- domain knowledge의 부족으로 차원수 축소를 위한 feature 삭제 과정에서 충분한 근거가 확보되지 못함 \n",
        "- 시간관계상 target feature의 불균형 문제를 해소하지 않고 모델링을 진행함 -> 모든 회차의 경기에서 3쌍씩을 추출할 수 없었음"
      ],
      "metadata": {
        "id": "63PWrrbjGDo1"
      }
    }
  ]
}