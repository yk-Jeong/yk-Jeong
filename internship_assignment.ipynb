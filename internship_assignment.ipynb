{
  "nbformat": 4,
  "nbformat_minor": 0,
  "metadata": {
    "colab": {
      "name": "assignment.ipynb",
      "provenance": [],
      "collapsed_sections": [],
      "authorship_tag": "ABX9TyNARQVPvmV/ckmdo7Amp8DJ",
      "include_colab_link": true
    },
    "kernelspec": {
      "name": "python3",
      "display_name": "Python 3"
    },
    "language_info": {
      "name": "python"
    }
  },
  "cells": [
    {
      "cell_type": "markdown",
      "metadata": {
        "id": "view-in-github",
        "colab_type": "text"
      },
      "source": [
        "<a href=\"https://colab.research.google.com/github/yk-Jeong/yk-jeong/blob/main/internship_assignment.ipynb\" target=\"_parent\"><img src=\"https://colab.research.google.com/assets/colab-badge.svg\" alt=\"Open In Colab\"/></a>"
      ]
    },
    {
      "cell_type": "code",
      "execution_count": 21,
      "metadata": {
        "id": "_MovIDHjG8UG"
      },
      "outputs": [],
      "source": [
        "class Node: \n",
        "  def __init__(self, parent=None, position=None):\n",
        "    self.parent = parent\n",
        "    self.position = position\n",
        "    \n",
        "    self.g = 0\n",
        "    self.h = 0\n",
        "    self.f = 0"
      ]
    },
    {
      "cell_type": "code",
      "source": [
        "def __eq__(self, other):\n",
        "  return self.position == other.position"
      ],
      "metadata": {
        "id": "WOhJGmKAcCYY"
      },
      "execution_count": 27,
      "outputs": []
    },
    {
      "cell_type": "code",
      "source": [
        "def heuristic(node, goal, D11, D2=2 ** 0.5):\n",
        "  dx = abs(node.position[0] - goal.position[0])\n",
        "  dy = abs(node.position[1] - goal.position[1])\n",
        "  return D * (dx + dy) + (D2 - 2 * D) * min(dx, dy)"
      ],
      "metadata": {
        "id": "0kIOl9wpH1B5"
      },
      "execution_count": 44,
      "outputs": []
    },
    {
      "cell_type": "code",
      "source": [
        "def aStar(maze, start, end):\n",
        "  startNode = Node(None, start)\n",
        "  endNode = Node(None, end)\n",
        "\n",
        "  openList = []\n",
        "  closedList = []\n",
        "\n",
        "  openList.append(startNode)\n",
        "\n",
        "  while openList:\n",
        "    currentNode = openList[0]\n",
        "    currentIdx = 0\n",
        "\n",
        "    for index, item in enumerate(openList):\n",
        "      if item.f < currentNode.f:\n",
        "        currentNode = item\n",
        "        currentIdx = index\n",
        "\n",
        "    openList.pop(currentIdx)\n",
        "    closedList.append(currentNode)\n",
        "\n",
        "    if currentNode == endNode:\n",
        "      path = []\n",
        "      current = currentNode\n",
        "      while current is not None:\n",
        "        path.append(current.position)\n",
        "        current = current.parent\n",
        "      return path[::-1]\n",
        "    \n",
        "    children = []\n",
        "\n",
        "    for newPosition in [(0, -1), (0, 1), (-1, 0), (1, 0), (-1, -1), (-1, 1), (1, -1), (1, 1)]:\n",
        "      nodePosition = (\n",
        "          currentNode.position[0] + newPosition[0], \n",
        "          currentNode.position[1] + newPosition[1])\n",
        "\n",
        "      within_range_criteria = [\n",
        "                               nodePosition[0] > (len(maze) - 1),\n",
        "                               nodePosition[0] < 0,\n",
        "                               nodePosition[1] > (len(maze[len(maze) - 1]) - 1),\n",
        "                               nodePosition[0] < 0\n",
        "      ]\n",
        "\n",
        "      if any(within_range_criteria):\n",
        "        continue\n",
        "\n",
        "      if maze[nodePosition[0]][nodePosition[1]] != 0:\n",
        "              continue\n",
        "\n",
        "      new_node = Node(currentNode, nodePosition)\n",
        "      children.append(new_node)\n",
        "\n",
        "    for child in children:\n",
        "      if child in closedList:\n",
        "        continue\n",
        "      \n",
        "      child.g = currentNode.g + 1\n",
        "      child.h = ((child.position[0] - endNode.position[0]) ** 2) + ((child.position[1] - endNode.position[1]) ** 2)\n",
        "      \n",
        "      child.f = child.g + child.h\n",
        "\n",
        "      if len([openNode for openNode in openList\n",
        "              if child == openNode and child.g > openNode.g]) > 0:\n",
        "          continue\n",
        "\n",
        "      openList.append(child)"
      ],
      "metadata": {
        "id": "1Lkl3Pv0IEfn"
      },
      "execution_count": 67,
      "outputs": []
    },
    {
      "cell_type": "code",
      "source": [
        "#(9, 7), (8, 7), (6, 7), (6, 8)\n",
        "def main():\n",
        "  maze = [[0, 0, 0, 0, 0, 0, 0, 0, 0, 0], \n",
        "          [0, 0, 0, 0, 0, 0, 0, 0, 0, 0], \n",
        "          [0, 0, 0, 0, 0, 0, 0, 0, 0, 0], \n",
        "          [0, 0, 0, 0, 0, 0, 0, 0, 0, 0], \n",
        "          [0, 0, 0, 0, 0, 0, 0, 0, 0, 0], \n",
        "          [0, 0, 0, 0, 0, 0, 0, 0, 0, 0], \n",
        "          [0, 0, 0, 0, 0, 0, 0, 0, 0, 0], \n",
        "          [0, 0, 0, 0, 0, 0, 0, 1, 1, 1], \n",
        "          [0, 0, 0, 0, 0, 0, 0, 1, 0, 0],\n",
        "          [0, 0, 0, 0, 0, 0, 0, 0, 0, 0]]\n",
        "  \n",
        "  start = (0, 0)\n",
        "  end = (9, 9)\n",
        "\n",
        "  path = aStar(maze, start, end)\n",
        "  print(path)"
      ],
      "metadata": {
        "id": "aZFM_fNVQg6m"
      },
      "execution_count": 68,
      "outputs": []
    },
    {
      "cell_type": "code",
      "source": [
        "main()"
      ],
      "metadata": {
        "colab": {
          "base_uri": "https://localhost:8080/"
        },
        "id": "7BJTU_hEZbW-",
        "outputId": "cff3efc1-3709-4ff2-dc00-ec5fda6f8776"
      },
      "execution_count": 69,
      "outputs": [
        {
          "output_type": "stream",
          "name": "stdout",
          "text": [
            "[(0, 0), (1, 1), (2, 2), (3, 3), (4, 4), (5, 5), (6, 6), (7, 6), (8, 6), (9, 7), (9, 8), (9, 9)]\n"
          ]
        }
      ]
    },
    {
      "cell_type": "code",
      "source": [
        ""
      ],
      "metadata": {
        "id": "JVbsMTFQZY7k"
      },
      "execution_count": 63,
      "outputs": []
    }
  ]
}